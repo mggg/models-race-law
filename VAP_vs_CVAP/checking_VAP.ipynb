{
 "cells": [
  {
   "cell_type": "markdown",
   "metadata": {},
   "source": [
    "# Checking EI VAP data\n",
    "Although the Article only references *CVAP* while discussing the methodology of determining demographic groups' candidates of interest, the [data](http://www-personal.umich.edu/~jowei/race/) that is used for the EI calculations only contains *VAP* information. While this is stated on the website (linked above), we check it here."
   ]
  },
  {
   "cell_type": "code",
   "execution_count": 1,
   "metadata": {},
   "outputs": [],
   "source": [
    "import pandas as pd\n",
    "pd.set_option('display.max_columns', 500)"
   ]
  },
  {
   "cell_type": "markdown",
   "metadata": {},
   "source": [
    "We will load in the Texas EI estimates that Chen uses, along with a Census block --> HD assignment file."
   ]
  },
  {
   "cell_type": "code",
   "execution_count": 2,
   "metadata": {},
   "outputs": [
    {
     "name": "stderr",
     "output_type": "stream",
     "text": [
      "/Users/gabe/miniconda3/lib/python3.8/site-packages/IPython/core/interactiveshell.py:3145: DtypeWarning: Columns (1) have mixed types.Specify dtype option on import or set low_memory=False.\n",
      "  has_raised = await self.run_ast_nodes(code_ast.body, cell_name,\n"
     ]
    }
   ],
   "source": [
    "df = pd.read_csv(\"TX.txt\", sep=\"\\t\")\n",
    "assignment = pd.read_csv(\"48_TX_SLDL.txt\")"
   ]
  },
  {
   "cell_type": "markdown",
   "metadata": {},
   "source": [
    "After joining the DataFrames and grouping by Texas House District, we can examine the `Tvap` column at House District 43 to check that it matches the VAP for HD-43 given on the Texas Legislature's website, [here](https://wrm.capitol.texas.gov/fyiwebdocs/PDF/house/dist43/r4.pdf)."
   ]
  },
  {
   "cell_type": "code",
   "execution_count": 3,
   "metadata": {},
   "outputs": [],
   "source": [
    "df = df.merge(assignment, left_on=\"geoid\", right_on=\"BLOCKID\")\n",
    "HDs = df.groupby(\"DISTRICT\").sum()"
   ]
  },
  {
   "cell_type": "code",
   "execution_count": 4,
   "metadata": {},
   "outputs": [
    {
     "data": {
      "text/plain": [
       "DISTRICT\n",
       "43    124492\n",
       "Name: Tvap, dtype: int64"
      ]
     },
     "execution_count": 4,
     "metadata": {},
     "output_type": "execute_result"
    }
   ],
   "source": [
    "TX_43 = HDs.iloc[42:43]\n",
    "TX_43[\"Tvap\"]"
   ]
  },
  {
   "cell_type": "code",
   "execution_count": 5,
   "metadata": {},
   "outputs": [
    {
     "data": {
      "text/html": [
       "<div>\n",
       "<style scoped>\n",
       "    .dataframe tbody tr th:only-of-type {\n",
       "        vertical-align: middle;\n",
       "    }\n",
       "\n",
       "    .dataframe tbody tr th {\n",
       "        vertical-align: top;\n",
       "    }\n",
       "\n",
       "    .dataframe thead th {\n",
       "        text-align: right;\n",
       "    }\n",
       "</style>\n",
       "<table border=\"1\" class=\"dataframe\">\n",
       "  <thead>\n",
       "    <tr style=\"text-align: right;\">\n",
       "      <th></th>\n",
       "      <th>geoid</th>\n",
       "      <th>COUSUB</th>\n",
       "      <th>Place</th>\n",
       "      <th>Tpop</th>\n",
       "      <th>hTpop</th>\n",
       "      <th>Bpop</th>\n",
       "      <th>Wpop</th>\n",
       "      <th>nTpop</th>\n",
       "      <th>nBpop</th>\n",
       "      <th>nWpop</th>\n",
       "      <th>Tvap</th>\n",
       "      <th>hTvap</th>\n",
       "      <th>Bvap</th>\n",
       "      <th>Wvap</th>\n",
       "      <th>nTvap</th>\n",
       "      <th>nBvap</th>\n",
       "      <th>nWvap</th>\n",
       "      <th>Obama</th>\n",
       "      <th>Romney</th>\n",
       "      <th>cty</th>\n",
       "      <th>hNBvap</th>\n",
       "      <th>bvotes</th>\n",
       "      <th>hvotes</th>\n",
       "      <th>ovotes</th>\n",
       "      <th>BRvotes</th>\n",
       "      <th>BDvotes</th>\n",
       "      <th>HRvotes</th>\n",
       "      <th>HDvotes</th>\n",
       "      <th>ORvotes</th>\n",
       "      <th>ODvotes</th>\n",
       "      <th>BLOCKID</th>\n",
       "      <th>NAME</th>\n",
       "    </tr>\n",
       "    <tr>\n",
       "      <th>DISTRICT</th>\n",
       "      <th></th>\n",
       "      <th></th>\n",
       "      <th></th>\n",
       "      <th></th>\n",
       "      <th></th>\n",
       "      <th></th>\n",
       "      <th></th>\n",
       "      <th></th>\n",
       "      <th></th>\n",
       "      <th></th>\n",
       "      <th></th>\n",
       "      <th></th>\n",
       "      <th></th>\n",
       "      <th></th>\n",
       "      <th></th>\n",
       "      <th></th>\n",
       "      <th></th>\n",
       "      <th></th>\n",
       "      <th></th>\n",
       "      <th></th>\n",
       "      <th></th>\n",
       "      <th></th>\n",
       "      <th></th>\n",
       "      <th></th>\n",
       "      <th></th>\n",
       "      <th></th>\n",
       "      <th></th>\n",
       "      <th></th>\n",
       "      <th></th>\n",
       "      <th></th>\n",
       "      <th></th>\n",
       "      <th></th>\n",
       "    </tr>\n",
       "  </thead>\n",
       "  <tbody>\n",
       "    <tr>\n",
       "      <th>43</th>\n",
       "      <td>2331132684057834496</td>\n",
       "      <td>443473168</td>\n",
       "      <td>259055447</td>\n",
       "      <td>169564</td>\n",
       "      <td>107903</td>\n",
       "      <td>5772</td>\n",
       "      <td>141990</td>\n",
       "      <td>61661</td>\n",
       "      <td>4981</td>\n",
       "      <td>53838</td>\n",
       "      <td>124492</td>\n",
       "      <td>74467</td>\n",
       "      <td>4486</td>\n",
       "      <td>104826</td>\n",
       "      <td>50025</td>\n",
       "      <td>4171</td>\n",
       "      <td>43632</td>\n",
       "      <td>22554.0</td>\n",
       "      <td>25017.0</td>\n",
       "      <td>1271038</td>\n",
       "      <td>74152</td>\n",
       "      <td>1155.330942</td>\n",
       "      <td>24091.12957</td>\n",
       "      <td>22274.314736</td>\n",
       "      <td>563.750381</td>\n",
       "      <td>591.580561</td>\n",
       "      <td>4738.877997</td>\n",
       "      <td>19352.251573</td>\n",
       "      <td>19677.35776</td>\n",
       "      <td>2596.956976</td>\n",
       "      <td>2331132684057834496</td>\n",
       "      <td>207690</td>\n",
       "    </tr>\n",
       "  </tbody>\n",
       "</table>\n",
       "</div>"
      ],
      "text/plain": [
       "                        geoid     COUSUB      Place    Tpop   hTpop  Bpop  \\\n",
       "DISTRICT                                                                    \n",
       "43        2331132684057834496  443473168  259055447  169564  107903  5772   \n",
       "\n",
       "            Wpop  nTpop  nBpop  nWpop    Tvap  hTvap  Bvap    Wvap  nTvap  \\\n",
       "DISTRICT                                                                    \n",
       "43        141990  61661   4981  53838  124492  74467  4486  104826  50025   \n",
       "\n",
       "          nBvap  nWvap    Obama   Romney      cty  hNBvap       bvotes  \\\n",
       "DISTRICT                                                                 \n",
       "43         4171  43632  22554.0  25017.0  1271038   74152  1155.330942   \n",
       "\n",
       "               hvotes        ovotes     BRvotes     BDvotes      HRvotes  \\\n",
       "DISTRICT                                                                   \n",
       "43        24091.12957  22274.314736  563.750381  591.580561  4738.877997   \n",
       "\n",
       "               HDvotes      ORvotes      ODvotes              BLOCKID    NAME  \n",
       "DISTRICT                                                                       \n",
       "43        19352.251573  19677.35776  2596.956976  2331132684057834496  207690  "
      ]
     },
     "execution_count": 5,
     "metadata": {},
     "output_type": "execute_result"
    }
   ],
   "source": [
    "TX_43"
   ]
  }
 ],
 "metadata": {
  "kernelspec": {
   "display_name": "Python 3",
   "language": "python",
   "name": "python3"
  },
  "language_info": {
   "codemirror_mode": {
    "name": "ipython",
    "version": 3
   },
   "file_extension": ".py",
   "mimetype": "text/x-python",
   "name": "python",
   "nbconvert_exporter": "python",
   "pygments_lexer": "ipython3",
   "version": "3.8.5"
  }
 },
 "nbformat": 4,
 "nbformat_minor": 4
}
