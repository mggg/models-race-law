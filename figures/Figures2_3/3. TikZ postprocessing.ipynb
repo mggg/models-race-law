{
 "cells": [
  {
   "cell_type": "code",
   "execution_count": 1,
   "metadata": {},
   "outputs": [],
   "source": [
    "import os\n",
    "import glob\n",
    "import json\n",
    "import pandas as pd"
   ]
  },
  {
   "cell_type": "code",
   "execution_count": 39,
   "metadata": {},
   "outputs": [],
   "source": [
    "levels = ('HD',)\n",
    "level_to_enacted_data = {\n",
    "    'CD': 'enacted_race_data/cd113_vap_with_race/',\n",
    "    'SD': 'enacted_race_data/leg2012_upper_vap_with_race/',\n",
    "    'HD': 'enacted_race_data/leg2012_lower_vap_with_race/'\n",
    "}"
   ]
  },
  {
   "cell_type": "code",
   "execution_count": 40,
   "metadata": {},
   "outputs": [],
   "source": [
    "state_order = 'AL AZ AR CA DE FL GA IL LA MD MS NV NJ NM NY NC SC TN TX VA'.split()"
   ]
  },
  {
   "cell_type": "code",
   "execution_count": 41,
   "metadata": {},
   "outputs": [],
   "source": [
    "bvap_over = 40"
   ]
  },
  {
   "cell_type": "code",
   "execution_count": 42,
   "metadata": {},
   "outputs": [],
   "source": [
    "stats = {}\n",
    "for level in levels:\n",
    "    for filename in glob.glob(f'results/*__{level}.jld.json'):\n",
    "        postal = filename.split('/')[-1].split('_')[0]\n",
    "    \n",
    "        enacted_filename = glob.glob(\n",
    "            os.path.join(level_to_enacted_data[level], f'*{postal}*')\n",
    "        )[0]\n",
    "        enacted_df = pd.read_csv(enacted_filename)\n",
    "        n_districts = len(enacted_df[enacted_df['district'] != 'ZZ'])\n",
    "        enacted_maj_black = len(enacted_df[enacted_df['black_pct'] > bvap_over])\n",
    "        state_bvap = round(100 * enacted_df['black'].sum() / enacted_df['total'].sum(), 3)\n",
    "        with open(filename) as f:\n",
    "            ensemble_data = json.load(f)\n",
    "            ensemble_maj_black_min = ensemble_data[f'bvap_over_{bvap_over}']['min']\n",
    "            ensemble_maj_black_max = ensemble_data[f'bvap_over_{bvap_over}']['max']\n",
    "            ensemble_maj_black_median = ensemble_data[f'bvap_over_{bvap_over}']['median']\n",
    "        stats[postal] = {\n",
    "            'bvap': state_bvap,\n",
    "            'n_districts': n_districts,\n",
    "            'enacted_maj_black': enacted_maj_black,\n",
    "            'ensemble_maj_black_min': ensemble_maj_black_min,\n",
    "            'ensemble_maj_black_max': ensemble_maj_black_max,\n",
    "            'ensemble_maj_black_median': ensemble_maj_black_median\n",
    "        }"
   ]
  },
  {
   "cell_type": "code",
   "execution_count": 43,
   "metadata": {},
   "outputs": [
    {
     "data": {
      "text/plain": [
       "dict_keys(['DE', 'LA', 'NY', 'NC', 'VA', 'SC', 'CA', 'MS', 'GA', 'AR', 'IL', 'NM', 'TN', 'AL', 'NV', 'TX', 'NJ', 'FL', 'AZ'])"
      ]
     },
     "execution_count": 43,
     "metadata": {},
     "output_type": "execute_result"
    }
   ],
   "source": [
    "stats.keys()"
   ]
  },
  {
   "cell_type": "code",
   "execution_count": 44,
   "metadata": {},
   "outputs": [],
   "source": [
    "out_data = ''\n",
    "for idx, postal in enumerate(state_order):\n",
    "    if postal not in stats:\n",
    "        continue\n",
    "    bvap = stats[postal]['bvap']\n",
    "    n = stats[postal]['n_districts']\n",
    "    enac = stats[postal]['enacted_maj_black']\n",
    "    ens_min = stats[postal]['ensemble_maj_black_min']\n",
    "    ens_max = stats[postal]['ensemble_maj_black_max']\n",
    "    ens_med = stats[postal]['ensemble_maj_black_median']\n",
    "    out_data += f'{idx + 1}/{postal}/{bvap}/{n}/{enac}/{ens_min}/{ens_max}/{ens_med},'"
   ]
  },
  {
   "cell_type": "code",
   "execution_count": 45,
   "metadata": {},
   "outputs": [
    {
     "data": {
      "text/plain": [
       "'1/AL/25.129/105/26/14/28/21.0,2/AZ/3.836/30/0/0/0/0.0,3/AR/14.31/100/13/5/14/10.0,4/CA/5.776/80/0/0/1/0.0,5/DE/19.9/41/6/1/7/3.0,6/FL/14.436/120/13/1/10/5.0,7/GA/29.147/180/52/33/52/43.0,8/IL/13.769/119/18/8/17/12.0,9/LA/30.048/106/30/16/37/26.0,11/MS/34.701/122/43/33/52/43.0,12/NV/7.789/42/0/0/0/0.0,13/NJ/13.134/40/2/1/7/4.0,14/NM/2.014/70/0/0/0/0.0,15/NY/15.231/150/20/8/18/13.0,16/NC/20.644/120/25/4/19/12.0,17/SC/26.502/124/36/18/35/26.0,18/TN/15.577/99/13/7/15/11.0,19/TX/11.619/150/12/0/7/3.0,20/VA/18.737/100/12/4/15/10.0,'"
      ]
     },
     "execution_count": 45,
     "metadata": {},
     "output_type": "execute_result"
    }
   ],
   "source": [
    "out_data"
   ]
  },
  {
   "cell_type": "code",
   "execution_count": 47,
   "metadata": {},
   "outputs": [
    {
     "data": {
      "text/plain": [
       "{'NC': {'bvap': 20.644,\n",
       "  'n_districts': 13,\n",
       "  'enacted_maj_black': 1,\n",
       "  'ensemble_maj_black_min': 0,\n",
       "  'ensemble_maj_black_max': 0,\n",
       "  'ensemble_maj_black_median': 0.0},\n",
       " 'FL': {'bvap': 14.436,\n",
       "  'n_districts': 27,\n",
       "  'enacted_maj_black': 1,\n",
       "  'ensemble_maj_black_min': 0,\n",
       "  'ensemble_maj_black_max': 0,\n",
       "  'ensemble_maj_black_median': 0.0},\n",
       " 'LA': {'bvap': 30.048,\n",
       "  'n_districts': 6,\n",
       "  'enacted_maj_black': 1,\n",
       "  'ensemble_maj_black_min': 0,\n",
       "  'ensemble_maj_black_max': 1,\n",
       "  'ensemble_maj_black_median': 0.0},\n",
       " 'MD': {'bvap': 28.414,\n",
       "  'n_districts': 8,\n",
       "  'enacted_maj_black': 2,\n",
       "  'ensemble_maj_black_min': 0,\n",
       "  'ensemble_maj_black_max': 2,\n",
       "  'ensemble_maj_black_median': 1.0},\n",
       " 'GA': {'bvap': 29.147,\n",
       "  'n_districts': 14,\n",
       "  'enacted_maj_black': 3,\n",
       "  'ensemble_maj_black_min': 0,\n",
       "  'ensemble_maj_black_max': 3,\n",
       "  'ensemble_maj_black_median': 1.0},\n",
       " 'MS': {'bvap': 34.701,\n",
       "  'n_districts': 4,\n",
       "  'enacted_maj_black': 1,\n",
       "  'ensemble_maj_black_min': 0,\n",
       "  'ensemble_maj_black_max': 1,\n",
       "  'ensemble_maj_black_median': 0.0},\n",
       " 'SC': {'bvap': 26.502,\n",
       "  'n_districts': 7,\n",
       "  'enacted_maj_black': 1,\n",
       "  'ensemble_maj_black_min': 0,\n",
       "  'ensemble_maj_black_max': 1,\n",
       "  'ensemble_maj_black_median': 0.0},\n",
       " 'VA': {'bvap': 18.737,\n",
       "  'n_districts': 11,\n",
       "  'enacted_maj_black': 1,\n",
       "  'ensemble_maj_black_min': 0,\n",
       "  'ensemble_maj_black_max': 0,\n",
       "  'ensemble_maj_black_median': 0.0},\n",
       " 'CA': {'bvap': 5.85,\n",
       "  'n_districts': 53,\n",
       "  'enacted_maj_black': 0,\n",
       "  'ensemble_maj_black_min': 0,\n",
       "  'ensemble_maj_black_max': 0,\n",
       "  'ensemble_maj_black_median': 0.0},\n",
       " 'NY': {'bvap': 15.231,\n",
       "  'n_districts': 27,\n",
       "  'enacted_maj_black': 3,\n",
       "  'ensemble_maj_black_min': 0,\n",
       "  'ensemble_maj_black_max': 2,\n",
       "  'ensemble_maj_black_median': 1.0},\n",
       " 'NV': {'bvap': 7.789,\n",
       "  'n_districts': 4,\n",
       "  'enacted_maj_black': 0,\n",
       "  'ensemble_maj_black_min': 0,\n",
       "  'ensemble_maj_black_max': 0,\n",
       "  'ensemble_maj_black_median': 0.0},\n",
       " 'TN': {'bvap': 15.577,\n",
       "  'n_districts': 9,\n",
       "  'enacted_maj_black': 1,\n",
       "  'ensemble_maj_black_min': 0,\n",
       "  'ensemble_maj_black_max': 1,\n",
       "  'ensemble_maj_black_median': 1.0},\n",
       " 'NM': {'bvap': 2.014,\n",
       "  'n_districts': 3,\n",
       "  'enacted_maj_black': 0,\n",
       "  'ensemble_maj_black_min': 0,\n",
       "  'ensemble_maj_black_max': 0,\n",
       "  'ensemble_maj_black_median': 0.0},\n",
       " 'IL': {'bvap': 13.769,\n",
       "  'n_districts': 18,\n",
       "  'enacted_maj_black': 3,\n",
       "  'ensemble_maj_black_min': 0,\n",
       "  'ensemble_maj_black_max': 2,\n",
       "  'ensemble_maj_black_median': 1.0},\n",
       " 'AR': {'bvap': 14.31,\n",
       "  'n_districts': 4,\n",
       "  'enacted_maj_black': 0,\n",
       "  'ensemble_maj_black_min': 0,\n",
       "  'ensemble_maj_black_max': 0,\n",
       "  'ensemble_maj_black_median': 0.0},\n",
       " 'AZ': {'bvap': 3.836,\n",
       "  'n_districts': 9,\n",
       "  'enacted_maj_black': 0,\n",
       "  'ensemble_maj_black_min': 0,\n",
       "  'ensemble_maj_black_max': 0,\n",
       "  'ensemble_maj_black_median': 0.0},\n",
       " 'NJ': {'bvap': 13.134,\n",
       "  'n_districts': 12,\n",
       "  'enacted_maj_black': 1,\n",
       "  'ensemble_maj_black_min': 0,\n",
       "  'ensemble_maj_black_max': 0,\n",
       "  'ensemble_maj_black_median': 0.0},\n",
       " 'TX': {'bvap': 11.619,\n",
       "  'n_districts': 36,\n",
       "  'enacted_maj_black': 0,\n",
       "  'ensemble_maj_black_min': 0,\n",
       "  'ensemble_maj_black_max': 0,\n",
       "  'ensemble_maj_black_median': 0.0}}"
      ]
     },
     "execution_count": 47,
     "metadata": {},
     "output_type": "execute_result"
    }
   ],
   "source": [
    "stats"
   ]
  },
  {
   "cell_type": "code",
   "execution_count": null,
   "metadata": {},
   "outputs": [],
   "source": []
  }
 ],
 "metadata": {
  "kernelspec": {
   "display_name": "Python 3",
   "language": "python",
   "name": "python3"
  },
  "language_info": {
   "codemirror_mode": {
    "name": "ipython",
    "version": 3
   },
   "file_extension": ".py",
   "mimetype": "text/x-python",
   "name": "python",
   "nbconvert_exporter": "python",
   "pygments_lexer": "ipython3",
   "version": "3.7.6"
  }
 },
 "nbformat": 4,
 "nbformat_minor": 4
}
