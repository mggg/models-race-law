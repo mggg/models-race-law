{
 "cells": [
  {
   "cell_type": "code",
   "execution_count": 1,
   "metadata": {},
   "outputs": [],
   "source": [
    "import pandas as pd\n",
    "import numpy as np\n",
    "import matplotlib.pyplot as plt\n",
    "pd.set_option('display.max_columns', None)"
   ]
  },
  {
   "cell_type": "code",
   "execution_count": 2,
   "metadata": {},
   "outputs": [],
   "source": [
    "df = pd.read_csv(\"../resources/TX_data_for_Chen_EI.csv\")"
   ]
  },
  {
   "cell_type": "code",
   "execution_count": 3,
   "metadata": {},
   "outputs": [
    {
     "data": {
      "text/html": [
       "<div>\n",
       "<style scoped>\n",
       "    .dataframe tbody tr th:only-of-type {\n",
       "        vertical-align: middle;\n",
       "    }\n",
       "\n",
       "    .dataframe tbody tr th {\n",
       "        vertical-align: top;\n",
       "    }\n",
       "\n",
       "    .dataframe thead th {\n",
       "        text-align: right;\n",
       "    }\n",
       "</style>\n",
       "<table border=\"1\" class=\"dataframe\">\n",
       "  <thead>\n",
       "    <tr style=\"text-align: right;\">\n",
       "      <th></th>\n",
       "      <th>CNTY_x</th>\n",
       "      <th>CNTYVTD</th>\n",
       "      <th>VAP</th>\n",
       "      <th>BVAP</th>\n",
       "      <th>HVAP</th>\n",
       "      <th>CVAP_2012</th>\n",
       "      <th>BCVAP_2012</th>\n",
       "      <th>HCVAP_2012</th>\n",
       "      <th>Obama</th>\n",
       "      <th>Romney</th>\n",
       "    </tr>\n",
       "  </thead>\n",
       "  <tbody>\n",
       "    <tr>\n",
       "      <th>0</th>\n",
       "      <td>1</td>\n",
       "      <td>10001</td>\n",
       "      <td>2341.0</td>\n",
       "      <td>368.0</td>\n",
       "      <td>217.0</td>\n",
       "      <td>1858</td>\n",
       "      <td>281</td>\n",
       "      <td>41</td>\n",
       "      <td>261</td>\n",
       "      <td>754</td>\n",
       "    </tr>\n",
       "    <tr>\n",
       "      <th>1</th>\n",
       "      <td>1</td>\n",
       "      <td>10002</td>\n",
       "      <td>2732.0</td>\n",
       "      <td>188.0</td>\n",
       "      <td>135.0</td>\n",
       "      <td>2995</td>\n",
       "      <td>237</td>\n",
       "      <td>199</td>\n",
       "      <td>228</td>\n",
       "      <td>1179</td>\n",
       "    </tr>\n",
       "    <tr>\n",
       "      <th>2</th>\n",
       "      <td>1</td>\n",
       "      <td>10003</td>\n",
       "      <td>1345.0</td>\n",
       "      <td>92.0</td>\n",
       "      <td>96.0</td>\n",
       "      <td>1225</td>\n",
       "      <td>54</td>\n",
       "      <td>34</td>\n",
       "      <td>108</td>\n",
       "      <td>650</td>\n",
       "    </tr>\n",
       "    <tr>\n",
       "      <th>3</th>\n",
       "      <td>1</td>\n",
       "      <td>10004</td>\n",
       "      <td>1684.0</td>\n",
       "      <td>52.0</td>\n",
       "      <td>47.0</td>\n",
       "      <td>1789</td>\n",
       "      <td>90</td>\n",
       "      <td>11</td>\n",
       "      <td>128</td>\n",
       "      <td>729</td>\n",
       "    </tr>\n",
       "    <tr>\n",
       "      <th>4</th>\n",
       "      <td>1</td>\n",
       "      <td>10005</td>\n",
       "      <td>366.0</td>\n",
       "      <td>3.0</td>\n",
       "      <td>12.0</td>\n",
       "      <td>356</td>\n",
       "      <td>0</td>\n",
       "      <td>4</td>\n",
       "      <td>13</td>\n",
       "      <td>174</td>\n",
       "    </tr>\n",
       "  </tbody>\n",
       "</table>\n",
       "</div>"
      ],
      "text/plain": [
       "   CNTY_x CNTYVTD     VAP   BVAP   HVAP  CVAP_2012  BCVAP_2012  HCVAP_2012  \\\n",
       "0       1   10001  2341.0  368.0  217.0       1858         281          41   \n",
       "1       1   10002  2732.0  188.0  135.0       2995         237         199   \n",
       "2       1   10003  1345.0   92.0   96.0       1225          54          34   \n",
       "3       1   10004  1684.0   52.0   47.0       1789          90          11   \n",
       "4       1   10005   366.0    3.0   12.0        356           0           4   \n",
       "\n",
       "   Obama  Romney  \n",
       "0    261     754  \n",
       "1    228    1179  \n",
       "2    108     650  \n",
       "3    128     729  \n",
       "4     13     174  "
      ]
     },
     "execution_count": 3,
     "metadata": {},
     "output_type": "execute_result"
    }
   ],
   "source": [
    "df.head()"
   ]
  },
  {
   "cell_type": "markdown",
   "metadata": {},
   "source": [
    "a problem precinct (PPs) occurs when `CVAP (VAP) < totvotes`"
   ]
  },
  {
   "cell_type": "code",
   "execution_count": 4,
   "metadata": {},
   "outputs": [
    {
     "name": "stdout",
     "output_type": "stream",
     "text": [
      "There are 104 VAP PPs\n",
      "         - 49 of which have VAP > 0\n",
      "There are 171 CVAP PPs\n",
      "        - 116 of which have CVAP > 0\n"
     ]
    }
   ],
   "source": [
    "vap_pps = df[df[\"VAP\"] < (df[\"Obama\"] + df[\"Romney\"])]\n",
    "vap_pps_nonzero = vap_pps[vap_pps[\"VAP\"] > 0]\n",
    "vap_pps_big = vap_pps[vap_pps[\"VAP\"] > 1000]\n",
    "cvap_pps = df[df[\"CVAP_2012\"] < (df[\"Obama\"] + df[\"Romney\"])]\n",
    "cvap_pps_nonzero = cvap_pps[cvap_pps[\"VAP\"] > 0]\n",
    "cvap_pps_big = cvap_pps[cvap_pps[\"VAP\"] > 1000]\n",
    "print(f\"There are {len(vap_pps)} VAP PPs\\n         - {len(vap_pps_nonzero)} of which have VAP > 0\")\n",
    "print(f\"There are {len(cvap_pps)} CVAP PPs\\n        - {len(cvap_pps_nonzero)} of which have CVAP > 0\")"
   ]
  },
  {
   "cell_type": "code",
   "execution_count": 5,
   "metadata": {},
   "outputs": [
    {
     "data": {
      "image/png": "[encoded data removed]",
      "text/plain": [
       "<Figure size 1152x720 with 4 Axes>"
      ]
     },
     "metadata": {
      "needs_background": "light"
     },
     "output_type": "display_data"
    }
   ],
   "source": [
    "fig, ax = plt.subplots(2,2, figsize=(16,10))\n",
    "\n",
    "ax[0][0].set_title(\"Distribution of nonzero VAP in PPs\")\n",
    "ax[0][0].hist(vap_pps_nonzero[\"VAP\"])\n",
    "\n",
    "ax[0][1].set_title(\"Distribution of nonzero CVAP in PPs\")\n",
    "ax[0][1].hist(cvap_pps_nonzero[\"CVAP_2012\"])\n",
    "\n",
    "ax[1][0].set_title(\"Distribution of totvotes in PPs\")\n",
    "ax[1][0].hist(vap_pps_nonzero[\"Obama\"] + vap_pps_nonzero[\"Romney\"])\n",
    "\n",
    "ax[1][1].set_title(\"Distribution of totvotes in PPs\")\n",
    "ax[1][1].hist(cvap_pps_nonzero[\"Obama\"] + cvap_pps_nonzero[\"Romney\"])\n",
    "\n",
    "plt.show()"
   ]
  },
  {
   "cell_type": "code",
   "execution_count": 6,
   "metadata": {},
   "outputs": [
    {
     "data": {
      "text/html": [
       "<div>\n",
       "<style scoped>\n",
       "    .dataframe tbody tr th:only-of-type {\n",
       "        vertical-align: middle;\n",
       "    }\n",
       "\n",
       "    .dataframe tbody tr th {\n",
       "        vertical-align: top;\n",
       "    }\n",
       "\n",
       "    .dataframe thead th {\n",
       "        text-align: right;\n",
       "    }\n",
       "</style>\n",
       "<table border=\"1\" class=\"dataframe\">\n",
       "  <thead>\n",
       "    <tr style=\"text-align: right;\">\n",
       "      <th></th>\n",
       "      <th>CNTY_x</th>\n",
       "      <th>CNTYVTD</th>\n",
       "      <th>VAP</th>\n",
       "      <th>BVAP</th>\n",
       "      <th>HVAP</th>\n",
       "      <th>CVAP_2012</th>\n",
       "      <th>BCVAP_2012</th>\n",
       "      <th>HCVAP_2012</th>\n",
       "      <th>Obama</th>\n",
       "      <th>Romney</th>\n",
       "    </tr>\n",
       "  </thead>\n",
       "  <tbody>\n",
       "    <tr>\n",
       "      <th>366</th>\n",
       "      <td>29</td>\n",
       "      <td>291122A</td>\n",
       "      <td>1013.0</td>\n",
       "      <td>91.0</td>\n",
       "      <td>376.0</td>\n",
       "      <td>1223</td>\n",
       "      <td>193</td>\n",
       "      <td>636</td>\n",
       "      <td>423</td>\n",
       "      <td>717</td>\n",
       "    </tr>\n",
       "    <tr>\n",
       "      <th>3423</th>\n",
       "      <td>157</td>\n",
       "      <td>1571007</td>\n",
       "      <td>1283.0</td>\n",
       "      <td>326.0</td>\n",
       "      <td>159.0</td>\n",
       "      <td>1222</td>\n",
       "      <td>188</td>\n",
       "      <td>214</td>\n",
       "      <td>773</td>\n",
       "      <td>1126</td>\n",
       "    </tr>\n",
       "    <tr>\n",
       "      <th>8966</th>\n",
       "      <td>491</td>\n",
       "      <td>4910393</td>\n",
       "      <td>2277.0</td>\n",
       "      <td>8.0</td>\n",
       "      <td>34.0</td>\n",
       "      <td>2224</td>\n",
       "      <td>0</td>\n",
       "      <td>144</td>\n",
       "      <td>667</td>\n",
       "      <td>1757</td>\n",
       "    </tr>\n",
       "    <tr>\n",
       "      <th>8967</th>\n",
       "      <td>491</td>\n",
       "      <td>4910394</td>\n",
       "      <td>1163.0</td>\n",
       "      <td>0.0</td>\n",
       "      <td>22.0</td>\n",
       "      <td>955</td>\n",
       "      <td>0</td>\n",
       "      <td>23</td>\n",
       "      <td>340</td>\n",
       "      <td>900</td>\n",
       "    </tr>\n",
       "  </tbody>\n",
       "</table>\n",
       "</div>"
      ],
      "text/plain": [
       "      CNTY_x  CNTYVTD     VAP   BVAP   HVAP  CVAP_2012  BCVAP_2012  \\\n",
       "366       29  291122A  1013.0   91.0  376.0       1223         193   \n",
       "3423     157  1571007  1283.0  326.0  159.0       1222         188   \n",
       "8966     491  4910393  2277.0    8.0   34.0       2224           0   \n",
       "8967     491  4910394  1163.0    0.0   22.0        955           0   \n",
       "\n",
       "      HCVAP_2012  Obama  Romney  \n",
       "366          636    423     717  \n",
       "3423         214    773    1126  \n",
       "8966         144    667    1757  \n",
       "8967          23    340     900  "
      ]
     },
     "execution_count": 6,
     "metadata": {},
     "output_type": "execute_result"
    }
   ],
   "source": [
    "vap_pps_big"
   ]
  },
  {
   "cell_type": "code",
   "execution_count": 7,
   "metadata": {},
   "outputs": [
    {
     "data": {
      "text/html": [
       "<div>\n",
       "<style scoped>\n",
       "    .dataframe tbody tr th:only-of-type {\n",
       "        vertical-align: middle;\n",
       "    }\n",
       "\n",
       "    .dataframe tbody tr th {\n",
       "        vertical-align: top;\n",
       "    }\n",
       "\n",
       "    .dataframe thead th {\n",
       "        text-align: right;\n",
       "    }\n",
       "</style>\n",
       "<table border=\"1\" class=\"dataframe\">\n",
       "  <thead>\n",
       "    <tr style=\"text-align: right;\">\n",
       "      <th></th>\n",
       "      <th>CNTY_x</th>\n",
       "      <th>CNTYVTD</th>\n",
       "      <th>VAP</th>\n",
       "      <th>BVAP</th>\n",
       "      <th>HVAP</th>\n",
       "      <th>CVAP_2012</th>\n",
       "      <th>BCVAP_2012</th>\n",
       "      <th>HCVAP_2012</th>\n",
       "      <th>Obama</th>\n",
       "      <th>Romney</th>\n",
       "    </tr>\n",
       "  </thead>\n",
       "  <tbody>\n",
       "    <tr>\n",
       "      <th>391</th>\n",
       "      <td>29</td>\n",
       "      <td>291143</td>\n",
       "      <td>1016.0</td>\n",
       "      <td>114.0</td>\n",
       "      <td>388.0</td>\n",
       "      <td>361</td>\n",
       "      <td>4</td>\n",
       "      <td>30</td>\n",
       "      <td>245</td>\n",
       "      <td>282</td>\n",
       "    </tr>\n",
       "    <tr>\n",
       "      <th>616</th>\n",
       "      <td>29</td>\n",
       "      <td>293055</td>\n",
       "      <td>1746.0</td>\n",
       "      <td>10.0</td>\n",
       "      <td>371.0</td>\n",
       "      <td>1365</td>\n",
       "      <td>0</td>\n",
       "      <td>158</td>\n",
       "      <td>332</td>\n",
       "      <td>1284</td>\n",
       "    </tr>\n",
       "    <tr>\n",
       "      <th>728</th>\n",
       "      <td>29</td>\n",
       "      <td>293164</td>\n",
       "      <td>1333.0</td>\n",
       "      <td>60.0</td>\n",
       "      <td>279.0</td>\n",
       "      <td>943</td>\n",
       "      <td>0</td>\n",
       "      <td>241</td>\n",
       "      <td>339</td>\n",
       "      <td>789</td>\n",
       "    </tr>\n",
       "    <tr>\n",
       "      <th>1756</th>\n",
       "      <td>85</td>\n",
       "      <td>850207</td>\n",
       "      <td>1516.0</td>\n",
       "      <td>200.0</td>\n",
       "      <td>189.0</td>\n",
       "      <td>1188</td>\n",
       "      <td>110</td>\n",
       "      <td>197</td>\n",
       "      <td>262</td>\n",
       "      <td>953</td>\n",
       "    </tr>\n",
       "    <tr>\n",
       "      <th>2210</th>\n",
       "      <td>113</td>\n",
       "      <td>1132222</td>\n",
       "      <td>2382.0</td>\n",
       "      <td>1.0</td>\n",
       "      <td>65.0</td>\n",
       "      <td>2120</td>\n",
       "      <td>0</td>\n",
       "      <td>70</td>\n",
       "      <td>322</td>\n",
       "      <td>1915</td>\n",
       "    </tr>\n",
       "    <tr>\n",
       "      <th>2813</th>\n",
       "      <td>121</td>\n",
       "      <td>1211036</td>\n",
       "      <td>2186.0</td>\n",
       "      <td>85.0</td>\n",
       "      <td>378.0</td>\n",
       "      <td>1772</td>\n",
       "      <td>85</td>\n",
       "      <td>107</td>\n",
       "      <td>576</td>\n",
       "      <td>1425</td>\n",
       "    </tr>\n",
       "    <tr>\n",
       "      <th>2842</th>\n",
       "      <td>121</td>\n",
       "      <td>1212012</td>\n",
       "      <td>1131.0</td>\n",
       "      <td>59.0</td>\n",
       "      <td>54.0</td>\n",
       "      <td>985</td>\n",
       "      <td>118</td>\n",
       "      <td>81</td>\n",
       "      <td>254</td>\n",
       "      <td>870</td>\n",
       "    </tr>\n",
       "    <tr>\n",
       "      <th>3423</th>\n",
       "      <td>157</td>\n",
       "      <td>1571007</td>\n",
       "      <td>1283.0</td>\n",
       "      <td>326.0</td>\n",
       "      <td>159.0</td>\n",
       "      <td>1222</td>\n",
       "      <td>188</td>\n",
       "      <td>214</td>\n",
       "      <td>773</td>\n",
       "      <td>1126</td>\n",
       "    </tr>\n",
       "    <tr>\n",
       "      <th>3507</th>\n",
       "      <td>157</td>\n",
       "      <td>1573149</td>\n",
       "      <td>2668.0</td>\n",
       "      <td>120.0</td>\n",
       "      <td>197.0</td>\n",
       "      <td>2497</td>\n",
       "      <td>142</td>\n",
       "      <td>154</td>\n",
       "      <td>465</td>\n",
       "      <td>2177</td>\n",
       "    </tr>\n",
       "    <tr>\n",
       "      <th>4937</th>\n",
       "      <td>201</td>\n",
       "      <td>2010955</td>\n",
       "      <td>1879.0</td>\n",
       "      <td>35.0</td>\n",
       "      <td>452.0</td>\n",
       "      <td>1802</td>\n",
       "      <td>23</td>\n",
       "      <td>283</td>\n",
       "      <td>366</td>\n",
       "      <td>1508</td>\n",
       "    </tr>\n",
       "    <tr>\n",
       "      <th>5138</th>\n",
       "      <td>215</td>\n",
       "      <td>2150016</td>\n",
       "      <td>2118.0</td>\n",
       "      <td>3.0</td>\n",
       "      <td>2073.0</td>\n",
       "      <td>1438</td>\n",
       "      <td>0</td>\n",
       "      <td>1402</td>\n",
       "      <td>1355</td>\n",
       "      <td>126</td>\n",
       "    </tr>\n",
       "    <tr>\n",
       "      <th>6589</th>\n",
       "      <td>339</td>\n",
       "      <td>3390072</td>\n",
       "      <td>2970.0</td>\n",
       "      <td>36.0</td>\n",
       "      <td>116.0</td>\n",
       "      <td>2535</td>\n",
       "      <td>0</td>\n",
       "      <td>145</td>\n",
       "      <td>236</td>\n",
       "      <td>2364</td>\n",
       "    </tr>\n",
       "    <tr>\n",
       "      <th>8604</th>\n",
       "      <td>467</td>\n",
       "      <td>467001B</td>\n",
       "      <td>1516.0</td>\n",
       "      <td>8.0</td>\n",
       "      <td>95.0</td>\n",
       "      <td>1431</td>\n",
       "      <td>3</td>\n",
       "      <td>60</td>\n",
       "      <td>248</td>\n",
       "      <td>1235</td>\n",
       "    </tr>\n",
       "    <tr>\n",
       "      <th>8663</th>\n",
       "      <td>471</td>\n",
       "      <td>4710205</td>\n",
       "      <td>2281.0</td>\n",
       "      <td>50.0</td>\n",
       "      <td>61.0</td>\n",
       "      <td>1859</td>\n",
       "      <td>126</td>\n",
       "      <td>27</td>\n",
       "      <td>377</td>\n",
       "      <td>1498</td>\n",
       "    </tr>\n",
       "    <tr>\n",
       "      <th>8966</th>\n",
       "      <td>491</td>\n",
       "      <td>4910393</td>\n",
       "      <td>2277.0</td>\n",
       "      <td>8.0</td>\n",
       "      <td>34.0</td>\n",
       "      <td>2224</td>\n",
       "      <td>0</td>\n",
       "      <td>144</td>\n",
       "      <td>667</td>\n",
       "      <td>1757</td>\n",
       "    </tr>\n",
       "    <tr>\n",
       "      <th>8967</th>\n",
       "      <td>491</td>\n",
       "      <td>4910394</td>\n",
       "      <td>1163.0</td>\n",
       "      <td>0.0</td>\n",
       "      <td>22.0</td>\n",
       "      <td>955</td>\n",
       "      <td>0</td>\n",
       "      <td>23</td>\n",
       "      <td>340</td>\n",
       "      <td>900</td>\n",
       "    </tr>\n",
       "  </tbody>\n",
       "</table>\n",
       "</div>"
      ],
      "text/plain": [
       "      CNTY_x  CNTYVTD     VAP   BVAP    HVAP  CVAP_2012  BCVAP_2012  \\\n",
       "391       29   291143  1016.0  114.0   388.0        361           4   \n",
       "616       29   293055  1746.0   10.0   371.0       1365           0   \n",
       "728       29   293164  1333.0   60.0   279.0        943           0   \n",
       "1756      85   850207  1516.0  200.0   189.0       1188         110   \n",
       "2210     113  1132222  2382.0    1.0    65.0       2120           0   \n",
       "2813     121  1211036  2186.0   85.0   378.0       1772          85   \n",
       "2842     121  1212012  1131.0   59.0    54.0        985         118   \n",
       "3423     157  1571007  1283.0  326.0   159.0       1222         188   \n",
       "3507     157  1573149  2668.0  120.0   197.0       2497         142   \n",
       "4937     201  2010955  1879.0   35.0   452.0       1802          23   \n",
       "5138     215  2150016  2118.0    3.0  2073.0       1438           0   \n",
       "6589     339  3390072  2970.0   36.0   116.0       2535           0   \n",
       "8604     467  467001B  1516.0    8.0    95.0       1431           3   \n",
       "8663     471  4710205  2281.0   50.0    61.0       1859         126   \n",
       "8966     491  4910393  2277.0    8.0    34.0       2224           0   \n",
       "8967     491  4910394  1163.0    0.0    22.0        955           0   \n",
       "\n",
       "      HCVAP_2012  Obama  Romney  \n",
       "391           30    245     282  \n",
       "616          158    332    1284  \n",
       "728          241    339     789  \n",
       "1756         197    262     953  \n",
       "2210          70    322    1915  \n",
       "2813         107    576    1425  \n",
       "2842          81    254     870  \n",
       "3423         214    773    1126  \n",
       "3507         154    465    2177  \n",
       "4937         283    366    1508  \n",
       "5138        1402   1355     126  \n",
       "6589         145    236    2364  \n",
       "8604          60    248    1235  \n",
       "8663          27    377    1498  \n",
       "8966         144    667    1757  \n",
       "8967          23    340     900  "
      ]
     },
     "execution_count": 7,
     "metadata": {},
     "output_type": "execute_result"
    }
   ],
   "source": [
    "cvap_pps_big"
   ]
  },
  {
   "cell_type": "code",
   "execution_count": 2,
   "metadata": {},
   "outputs": [],
   "source": [
    "VTDtoHD = pd.read_csv(\"../resources/TX_district_assignment.csv\")"
   ]
  },
  {
   "cell_type": "code",
   "execution_count": 15,
   "metadata": {},
   "outputs": [],
   "source": [
    "def easy_calculateMODs(run):\n",
    "    df = pd.read_csv(f\"../final_testing/{run}.csv\")\n",
    "    df = pd.merge(df, VTDtoHD, how='inner')\n",
    "    df = df.groupby(by=\"sldl358\").sum()\n",
    "    \n",
    "    BDvotes = \"BDvotes\"\n",
    "    HDvotes = \"HDvotes\"\n",
    "    BRvotes = \"BRvotes\"\n",
    "    HRvotes = \"HRvotes\"\n",
    "    ODvotes = \"ODvotes\"\n",
    "    ORvotes = \"ORvotes\"\n",
    "    \n",
    "    obamaWins = (df[BDvotes] + df[HDvotes] + df[ODvotes]) > (df[BRvotes] + df[HRvotes] + df[ORvotes])\n",
    "    romneyWins = ~obamaWins\n",
    "    \n",
    "    BHD_Outnumber_OD = 1*(df[BDvotes] + df[HDvotes]) > df[ODvotes]\n",
    "    BR_Outnumber_OR = df[BRvotes] > df[ORvotes]\n",
    "    BD_Outnumber_OD = df[BDvotes] > df[ODvotes]\n",
    "    HD_Outnumber_OD = df[HDvotes] > df[ODvotes]\n",
    "    HR_Outnumber_OR = df[HRvotes] > df[ORvotes]\n",
    "    BHR_Outnumber_OR = (df[BRvotes] + df[HRvotes]) > df[ORvotes]\n",
    "    \n",
    "    BHD = (df[BDvotes] > df[BRvotes]) & (df[HDvotes] > df[HRvotes])\n",
    "    BR_HD = (df[BDvotes] <= df[BRvotes]) & (df[HDvotes] > df[HRvotes])\n",
    "    BD_HR = (df[BDvotes] > df[BRvotes]) & (df[HDvotes] <= df[HRvotes])\n",
    "    BHR = (df[BDvotes] <= df[BRvotes]) & (df[HDvotes] <= df[HRvotes])\n",
    "    \n",
    "    case1 = BHD & obamaWins & BHD_Outnumber_OD\n",
    "    case2 = BR_HD & ((obamaWins & HD_Outnumber_OD) | (romneyWins & BR_Outnumber_OR))\n",
    "    case3 = BD_HR & ((obamaWins & BD_Outnumber_OD) | (romneyWins & HR_Outnumber_OR))\n",
    "    case4 = BHR & romneyWins & BHR_Outnumber_OR\n",
    "    \n",
    "    OODs = case1 | case2 | case3 | case4\n",
    "    \n",
    "#     print(f\"Case 1: {sum(case1)}, {np.where(case1)}\")\n",
    "#     print(f\"Case 2: {sum(case2)}, {np.where(case2)}\")\n",
    "#     print(f\"Case 3: {sum(case3)}, {np.where(case3)}\")\n",
    "#     print(f\"Case 4: {sum(case4)}, {np.where(case4)}\")\n",
    "#     print(f\"None: {sum(~OODs)}, {np.where(~OODs)}\")\n",
    "\n",
    "    return sum(OODs)"
   ]
  },
  {
   "cell_type": "code",
   "execution_count": 11,
   "metadata": {},
   "outputs": [
    {
     "name": "stdout",
     "output_type": "stream",
     "text": [
      "1 51\n",
      "2 51\n",
      "3 51\n",
      "4 51\n",
      "5 51\n",
      "6 51\n",
      "7 51\n",
      "8 51\n",
      "9 51\n",
      "10 51\n"
     ]
    }
   ],
   "source": [
    "for i in range(1,11):\n",
    "    print(i, easy_calculateMODs(f\"scalePop_PPs_CVAP_one_phase_statewide_{i}\"))"
   ]
  },
  {
   "cell_type": "code",
   "execution_count": 16,
   "metadata": {},
   "outputs": [
    {
     "name": "stdout",
     "output_type": "stream",
     "text": [
      "1 33\n",
      "2 32\n"
     ]
    }
   ],
   "source": [
    "for i in range(1,3):\n",
    "    print(i, easy_calculateMODs(f\"scaleVotes_PPs_VAP_two_phase_statewide_{i}\"))"
   ]
  },
  {
   "cell_type": "code",
   "execution_count": 14,
   "metadata": {},
   "outputs": [
    {
     "name": "stdout",
     "output_type": "stream",
     "text": [
      "1 45\n",
      "2 45\n",
      "3 44\n",
      "4 45\n",
      "5 45\n",
      "6 44\n",
      "7 44\n",
      "8 44\n",
      "9 45\n",
      "10 44\n",
      "11 45\n",
      "12 44\n",
      "13 44\n",
      "14 45\n",
      "15 45\n",
      "16 45\n",
      "17 45\n",
      "18 44\n",
      "19 45\n",
      "20 45\n"
     ]
    }
   ],
   "source": [
    "for i in range(1,21):\n",
    "    print(i, easy_calculateMODs(f\"scaleVotes_PPs_VAP_two_phase_{i}\"))"
   ]
  },
  {
   "cell_type": "code",
   "execution_count": 12,
   "metadata": {},
   "outputs": [
    {
     "data": {
      "text/plain": [
       "34"
      ]
     },
     "execution_count": 12,
     "metadata": {},
     "output_type": "execute_result"
    }
   ],
   "source": [
    "easy_calculateMODs(\"buffer_PPs_VAP_two_phase_2\")"
   ]
  },
  {
   "cell_type": "code",
   "execution_count": 13,
   "metadata": {},
   "outputs": [
    {
     "data": {
      "text/plain": [
       "37"
      ]
     },
     "execution_count": 13,
     "metadata": {},
     "output_type": "execute_result"
    }
   ],
   "source": [
    "easy_calculateMODs(\"buffer_PPs_VAP_two_phase_13\")"
   ]
  },
  {
   "cell_type": "code",
   "execution_count": null,
   "metadata": {},
   "outputs": [],
   "source": []
  },
  {
   "cell_type": "code",
   "execution_count": 165,
   "metadata": {},
   "outputs": [
    {
     "data": {
      "text/plain": [
       "CNTY_x         20633.000000\n",
       "TOTPOP        110209.000000\n",
       "BPOP           28459.000000\n",
       "HPOP           35790.000000\n",
       "CVAP_2012      87870.000000\n",
       "BCVAP_2012     25340.000000\n",
       "HCVAP_2012     19226.000000\n",
       "Obama          27431.000000\n",
       "Romney         14942.000000\n",
       "bvotes         11894.258291\n",
       "hvotes          2658.337077\n",
       "ovotes         27696.982195\n",
       "BRvotes          581.001363\n",
       "BDvotes        11313.256928\n",
       "HRvotes          238.089656\n",
       "HDvotes         2420.247420\n",
       "ORvotes        14156.966049\n",
       "ODvotes        13540.016146\n",
       "Unnamed: 0    363766.000000\n",
       "CD               687.000000\n",
       "sldl309         4747.000000\n",
       "sldu172          738.000000\n",
       "Name: 101, dtype: float64"
      ]
     },
     "execution_count": 165,
     "metadata": {},
     "output_type": "execute_result"
    }
   ],
   "source": [
    "df = pd.read_csv(f\"../final_final_testing/scaleVotes_PPs_VAP_two_phase_1.csv\")\n",
    "df = pd.merge(df, VTDtoHD, how='inner')\n",
    "df = df.groupby(by=\"sldl358\").sum()\n",
    "df.iloc[100]"
   ]
  },
  {
   "cell_type": "code",
   "execution_count": 164,
   "metadata": {},
   "outputs": [
    {
     "data": {
      "text/plain": [
       "CNTY_x         20633.000000\n",
       "TOTPOP        110209.000000\n",
       "BPOP           28459.000000\n",
       "HPOP           35790.000000\n",
       "CVAP_2012      87870.000000\n",
       "BCVAP_2012     25340.000000\n",
       "HCVAP_2012     19226.000000\n",
       "Obama          27431.000000\n",
       "Romney         14942.000000\n",
       "bvotes         11828.041595\n",
       "hvotes          2690.040873\n",
       "ovotes         27729.300985\n",
       "BRvotes          650.941336\n",
       "BDvotes        11177.100259\n",
       "HRvotes          306.860913\n",
       "HDvotes         2383.179959\n",
       "ORvotes        14007.327606\n",
       "ODvotes        13721.973379\n",
       "Unnamed: 0    363766.000000\n",
       "CD               687.000000\n",
       "sldl309         4747.000000\n",
       "sldu172          738.000000\n",
       "Name: 101, dtype: float64"
      ]
     },
     "execution_count": 164,
     "metadata": {},
     "output_type": "execute_result"
    }
   ],
   "source": [
    "df = pd.read_csv(f\"../final_final_testing/scaleVotes_PPs_VAP_two_phase_3.csv\")\n",
    "df = pd.merge(df, VTDtoHD, how='inner')\n",
    "df = df.groupby(by=\"sldl358\").sum()\n",
    "df.iloc[100]"
   ]
  },
  {
   "cell_type": "code",
   "execution_count": 166,
   "metadata": {},
   "outputs": [
    {
     "data": {
      "text/plain": [
       "CNTY_x          4623.000000\n",
       "TOTPOP        121535.000000\n",
       "BPOP           28026.000000\n",
       "HPOP           41056.000000\n",
       "CVAP_2012      86325.000000\n",
       "BCVAP_2012     23592.000000\n",
       "HCVAP_2012     19313.000000\n",
       "Obama          24737.000000\n",
       "Romney         16877.000000\n",
       "bvotes          9928.128647\n",
       "hvotes          2687.963250\n",
       "ovotes         29022.410826\n",
       "BRvotes          267.752342\n",
       "BDvotes         9660.376305\n",
       "HRvotes          266.018967\n",
       "HDvotes         2421.944283\n",
       "ORvotes        16385.651998\n",
       "ODvotes        12636.758828\n",
       "Unnamed: 0    106108.000000\n",
       "CD               199.000000\n",
       "sldl309         3415.000000\n",
       "sldu172          355.000000\n",
       "Name: 149, dtype: float64"
      ]
     },
     "execution_count": 166,
     "metadata": {},
     "output_type": "execute_result"
    }
   ],
   "source": [
    "df = pd.read_csv(f\"../final_final_testing/scaleVotes_PPs_VAP_two_phase_10.csv\")\n",
    "df = pd.merge(df, VTDtoHD, how='inner')\n",
    "df = df.groupby(by=\"sldl358\").sum()\n",
    "df.iloc[148]"
   ]
  },
  {
   "cell_type": "code",
   "execution_count": 149,
   "metadata": {},
   "outputs": [
    {
     "name": "stdout",
     "output_type": "stream",
     "text": [
      "0 45\n",
      "1 45\n",
      "2 45\n",
      "3 45\n",
      "4 45\n",
      "5 45\n",
      "6 45\n",
      "7 45\n",
      "8 45\n",
      "9 46\n",
      "10 45\n",
      "11 45\n",
      "12 45\n",
      "13 45\n",
      "14 45\n",
      "15 45\n",
      "16 45\n",
      "17 45\n",
      "18 45\n",
      "19 45\n"
     ]
    }
   ],
   "source": [
    "OODs_list = []\n",
    "for i in range(1,21):\n",
    "    OODs_list.append(easy_calculateMODs(f\"scaleVotes_PPs_VAP_two_phase_{i}\"))\n",
    "for i, s in enumerate(OODs_list):\n",
    "    print(i, s)"
   ]
  },
  {
   "cell_type": "code",
   "execution_count": 93,
   "metadata": {},
   "outputs": [
    {
     "name": "stdout",
     "output_type": "stream",
     "text": [
      "{100}\n",
      "{100}\n",
      "{100}\n",
      "{100}\n",
      "{100}\n",
      "{100}\n",
      "{100}\n",
      "{100}\n"
     ]
    }
   ],
   "source": [
    "for i in [2,5,6,7,9,11,12,17]:\n",
    "    print(set(OODs_list[19]).difference(set(OODs_list[2])))"
   ]
  },
  {
   "cell_type": "code",
   "execution_count": 170,
   "metadata": {},
   "outputs": [
    {
     "name": "stdout",
     "output_type": "stream",
     "text": [
      "Case 1: 39, (array([ 21,  26,  30,  33,  36,  37,  39,  41,  73,  74,  76,  77,  78,\n",
      "        89,  94,  99, 100, 103, 108, 109, 110, 115, 116, 117, 118, 119,\n",
      "       122, 123, 124, 130, 138, 139, 140, 141, 142, 143, 144, 145, 146]),)\n",
      "Case 2: 6, (array([34, 35, 38, 40, 75, 79]),)\n",
      "Case 3: 0, (array([], dtype=int64),)\n",
      "Case 4: 0, (array([], dtype=int64),)\n",
      "None: 105, (array([  0,   1,   2,   3,   4,   5,   6,   7,   8,   9,  10,  11,  12,\n",
      "        13,  14,  15,  16,  17,  18,  19,  20,  22,  23,  24,  25,  27,\n",
      "        28,  29,  31,  32,  42,  43,  44,  45,  46,  47,  48,  49,  50,\n",
      "        51,  52,  53,  54,  55,  56,  57,  58,  59,  60,  61,  62,  63,\n",
      "        64,  65,  66,  67,  68,  69,  70,  71,  72,  80,  81,  82,  83,\n",
      "        84,  85,  86,  87,  88,  90,  91,  92,  93,  95,  96,  97,  98,\n",
      "       101, 102, 104, 105, 106, 107, 111, 112, 113, 114, 120, 121, 125,\n",
      "       126, 127, 128, 129, 131, 132, 133, 134, 135, 136, 137, 147, 148,\n",
      "       149]),)\n"
     ]
    }
   ],
   "source": [
    "a = easy_calculateMODs(\"scaleVotes_PPs_VAP_two_phase_1\")"
   ]
  },
  {
   "cell_type": "code",
   "execution_count": 172,
   "metadata": {},
   "outputs": [
    {
     "name": "stdout",
     "output_type": "stream",
     "text": [
      "[ 22  27  31  34  35  36  37  38  39  40  41  42  74  75  76  77  78  79\n",
      "  80  90  95 100 101 104 109 110 111 116 117 118 119 120 123 124 125 131\n",
      " 139 140 141 142 143 144 145 146 147]\n"
     ]
    }
   ],
   "source": [
    "for i in a:\n",
    "    print(i+1)"
   ]
  },
  {
   "cell_type": "code",
   "execution_count": 159,
   "metadata": {},
   "outputs": [
    {
     "name": "stdout",
     "output_type": "stream",
     "text": [
      "Case 1: 43, (array([ 21,  26,  30,  33,  34,  35,  36,  37,  38,  39,  41,  73,  74,\n",
      "        76,  77,  78,  89,  94,  99, 100, 103, 108, 109, 110, 115, 116,\n",
      "       117, 118, 119, 122, 123, 124, 130, 138, 139, 140, 141, 142, 143,\n",
      "       144, 145, 146, 148]),)\n",
      "Case 2: 3, (array([40, 75, 79]),)\n",
      "Case 3: 0, (array([], dtype=int64),)\n",
      "Case 4: 0, (array([], dtype=int64),)\n",
      "None: 104, (array([  0,   1,   2,   3,   4,   5,   6,   7,   8,   9,  10,  11,  12,\n",
      "        13,  14,  15,  16,  17,  18,  19,  20,  22,  23,  24,  25,  27,\n",
      "        28,  29,  31,  32,  42,  43,  44,  45,  46,  47,  48,  49,  50,\n",
      "        51,  52,  53,  54,  55,  56,  57,  58,  59,  60,  61,  62,  63,\n",
      "        64,  65,  66,  67,  68,  69,  70,  71,  72,  80,  81,  82,  83,\n",
      "        84,  85,  86,  87,  88,  90,  91,  92,  93,  95,  96,  97,  98,\n",
      "       101, 102, 104, 105, 106, 107, 111, 112, 113, 114, 120, 121, 125,\n",
      "       126, 127, 128, 129, 131, 132, 133, 134, 135, 136, 137, 147, 149]),)\n"
     ]
    },
    {
     "data": {
      "text/plain": [
       "46"
      ]
     },
     "execution_count": 159,
     "metadata": {},
     "output_type": "execute_result"
    }
   ],
   "source": [
    "easy_calculateMODs(\"scaleVotes_PPs_VAP_two_phase_10\")"
   ]
  },
  {
   "cell_type": "code",
   "execution_count": 136,
   "metadata": {},
   "outputs": [
    {
     "name": "stdout",
     "output_type": "stream",
     "text": [
      "Case 1: 42, (array([ 21,  26,  30,  33,  34,  35,  36,  37,  38,  39,  40,  41,  73,\n",
      "        74,  76,  77,  78,  89,  94,  99, 103, 108, 109, 110, 115, 116,\n",
      "       117, 118, 119, 122, 123, 124, 130, 138, 139, 140, 141, 142, 143,\n",
      "       144, 145, 146]),)\n",
      "Case 2: 2, (array([75, 79]),)\n",
      "Case 3: 0, (array([], dtype=int64),)\n",
      "Case 4: 0, (array([], dtype=int64),)\n",
      "None: 106, (array([  0,   1,   2,   3,   4,   5,   6,   7,   8,   9,  10,  11,  12,\n",
      "        13,  14,  15,  16,  17,  18,  19,  20,  22,  23,  24,  25,  27,\n",
      "        28,  29,  31,  32,  42,  43,  44,  45,  46,  47,  48,  49,  50,\n",
      "        51,  52,  53,  54,  55,  56,  57,  58,  59,  60,  61,  62,  63,\n",
      "        64,  65,  66,  67,  68,  69,  70,  71,  72,  80,  81,  82,  83,\n",
      "        84,  85,  86,  87,  88,  90,  91,  92,  93,  95,  96,  97,  98,\n",
      "       100, 101, 102, 104, 105, 106, 107, 111, 112, 113, 114, 120, 121,\n",
      "       125, 126, 127, 128, 129, 131, 132, 133, 134, 135, 136, 137, 147,\n",
      "       148, 149]),)\n"
     ]
    },
    {
     "data": {
      "text/plain": [
       "44"
      ]
     },
     "execution_count": 136,
     "metadata": {},
     "output_type": "execute_result"
    }
   ],
   "source": [
    "easy_calculateMODs(\"scaleVotes_PPs_VAP_two_phase_3\")"
   ]
  },
  {
   "cell_type": "code",
   "execution_count": 137,
   "metadata": {},
   "outputs": [
    {
     "name": "stdout",
     "output_type": "stream",
     "text": [
      "buffer_PPs_VAP_two_phase_1: "
     ]
    },
    {
     "ename": "FileNotFoundError",
     "evalue": "[Errno 2] No such file or directory: '../final_final_testing/buffer_PPs_VAP_two_phase_1.csv'",
     "output_type": "error",
     "traceback": [
      "\u001b[0;31m---------------------------------------------------------------------------\u001b[0m",
      "\u001b[0;31mFileNotFoundError\u001b[0m                         Traceback (most recent call last)",
      "\u001b[0;32m<ipython-input-137-dcd9363dc159>\u001b[0m in \u001b[0;36m<module>\u001b[0;34m\u001b[0m\n\u001b[1;32m      1\u001b[0m \u001b[0;32mfor\u001b[0m \u001b[0mi\u001b[0m \u001b[0;32min\u001b[0m \u001b[0mrange\u001b[0m\u001b[0;34m(\u001b[0m\u001b[0;36m1\u001b[0m\u001b[0;34m,\u001b[0m\u001b[0;36m14\u001b[0m\u001b[0;34m)\u001b[0m\u001b[0;34m:\u001b[0m\u001b[0;34m\u001b[0m\u001b[0;34m\u001b[0m\u001b[0m\n\u001b[1;32m      2\u001b[0m     \u001b[0mprint\u001b[0m\u001b[0;34m(\u001b[0m\u001b[0;34mf\"buffer_PPs_VAP_two_phase_{i}: \"\u001b[0m\u001b[0;34m,\u001b[0m \u001b[0mend\u001b[0m\u001b[0;34m=\u001b[0m\u001b[0;34m\"\"\u001b[0m\u001b[0;34m)\u001b[0m\u001b[0;34m\u001b[0m\u001b[0;34m\u001b[0m\u001b[0m\n\u001b[0;32m----> 3\u001b[0;31m     \u001b[0measy_calculateMODs\u001b[0m\u001b[0;34m(\u001b[0m\u001b[0;34mf\"buffer_PPs_VAP_two_phase_{i}\"\u001b[0m\u001b[0;34m)\u001b[0m\u001b[0;34m\u001b[0m\u001b[0;34m\u001b[0m\u001b[0m\n\u001b[0m",
      "\u001b[0;32m<ipython-input-133-d5dfb2dedf57>\u001b[0m in \u001b[0;36measy_calculateMODs\u001b[0;34m(run)\u001b[0m\n\u001b[1;32m      1\u001b[0m \u001b[0;32mdef\u001b[0m \u001b[0measy_calculateMODs\u001b[0m\u001b[0;34m(\u001b[0m\u001b[0mrun\u001b[0m\u001b[0;34m)\u001b[0m\u001b[0;34m:\u001b[0m\u001b[0;34m\u001b[0m\u001b[0;34m\u001b[0m\u001b[0m\n\u001b[0;32m----> 2\u001b[0;31m     \u001b[0mdf\u001b[0m \u001b[0;34m=\u001b[0m \u001b[0mpd\u001b[0m\u001b[0;34m.\u001b[0m\u001b[0mread_csv\u001b[0m\u001b[0;34m(\u001b[0m\u001b[0;34mf\"../final_final_testing/{run}.csv\"\u001b[0m\u001b[0;34m)\u001b[0m\u001b[0;34m\u001b[0m\u001b[0;34m\u001b[0m\u001b[0m\n\u001b[0m\u001b[1;32m      3\u001b[0m     \u001b[0mdf\u001b[0m \u001b[0;34m=\u001b[0m \u001b[0mpd\u001b[0m\u001b[0;34m.\u001b[0m\u001b[0mmerge\u001b[0m\u001b[0;34m(\u001b[0m\u001b[0mdf\u001b[0m\u001b[0;34m,\u001b[0m \u001b[0mVTDtoHD\u001b[0m\u001b[0;34m,\u001b[0m \u001b[0mhow\u001b[0m\u001b[0;34m=\u001b[0m\u001b[0;34m'inner'\u001b[0m\u001b[0;34m)\u001b[0m\u001b[0;34m\u001b[0m\u001b[0;34m\u001b[0m\u001b[0m\n\u001b[1;32m      4\u001b[0m     \u001b[0mdf\u001b[0m \u001b[0;34m=\u001b[0m \u001b[0mdf\u001b[0m\u001b[0;34m.\u001b[0m\u001b[0mgroupby\u001b[0m\u001b[0;34m(\u001b[0m\u001b[0mby\u001b[0m\u001b[0;34m=\u001b[0m\u001b[0;34m\"sldl358\"\u001b[0m\u001b[0;34m)\u001b[0m\u001b[0;34m.\u001b[0m\u001b[0msum\u001b[0m\u001b[0;34m(\u001b[0m\u001b[0;34m)\u001b[0m\u001b[0;34m\u001b[0m\u001b[0;34m\u001b[0m\u001b[0m\n\u001b[1;32m      5\u001b[0m \u001b[0;34m\u001b[0m\u001b[0m\n",
      "\u001b[0;32m~/miniconda3/lib/python3.8/site-packages/pandas/io/parsers.py\u001b[0m in \u001b[0;36mread_csv\u001b[0;34m(filepath_or_buffer, sep, delimiter, header, names, index_col, usecols, squeeze, prefix, mangle_dupe_cols, dtype, engine, converters, true_values, false_values, skipinitialspace, skiprows, skipfooter, nrows, na_values, keep_default_na, na_filter, verbose, skip_blank_lines, parse_dates, infer_datetime_format, keep_date_col, date_parser, dayfirst, cache_dates, iterator, chunksize, compression, thousands, decimal, lineterminator, quotechar, quoting, doublequote, escapechar, comment, encoding, dialect, error_bad_lines, warn_bad_lines, delim_whitespace, low_memory, memory_map, float_precision)\u001b[0m\n\u001b[1;32m    684\u001b[0m     )\n\u001b[1;32m    685\u001b[0m \u001b[0;34m\u001b[0m\u001b[0m\n\u001b[0;32m--> 686\u001b[0;31m     \u001b[0;32mreturn\u001b[0m \u001b[0m_read\u001b[0m\u001b[0;34m(\u001b[0m\u001b[0mfilepath_or_buffer\u001b[0m\u001b[0;34m,\u001b[0m \u001b[0mkwds\u001b[0m\u001b[0;34m)\u001b[0m\u001b[0;34m\u001b[0m\u001b[0;34m\u001b[0m\u001b[0m\n\u001b[0m\u001b[1;32m    687\u001b[0m \u001b[0;34m\u001b[0m\u001b[0m\n\u001b[1;32m    688\u001b[0m \u001b[0;34m\u001b[0m\u001b[0m\n",
      "\u001b[0;32m~/miniconda3/lib/python3.8/site-packages/pandas/io/parsers.py\u001b[0m in \u001b[0;36m_read\u001b[0;34m(filepath_or_buffer, kwds)\u001b[0m\n\u001b[1;32m    450\u001b[0m \u001b[0;34m\u001b[0m\u001b[0m\n\u001b[1;32m    451\u001b[0m     \u001b[0;31m# Create the parser.\u001b[0m\u001b[0;34m\u001b[0m\u001b[0;34m\u001b[0m\u001b[0;34m\u001b[0m\u001b[0m\n\u001b[0;32m--> 452\u001b[0;31m     \u001b[0mparser\u001b[0m \u001b[0;34m=\u001b[0m \u001b[0mTextFileReader\u001b[0m\u001b[0;34m(\u001b[0m\u001b[0mfp_or_buf\u001b[0m\u001b[0;34m,\u001b[0m \u001b[0;34m**\u001b[0m\u001b[0mkwds\u001b[0m\u001b[0;34m)\u001b[0m\u001b[0;34m\u001b[0m\u001b[0;34m\u001b[0m\u001b[0m\n\u001b[0m\u001b[1;32m    453\u001b[0m \u001b[0;34m\u001b[0m\u001b[0m\n\u001b[1;32m    454\u001b[0m     \u001b[0;32mif\u001b[0m \u001b[0mchunksize\u001b[0m \u001b[0;32mor\u001b[0m \u001b[0miterator\u001b[0m\u001b[0;34m:\u001b[0m\u001b[0;34m\u001b[0m\u001b[0;34m\u001b[0m\u001b[0m\n",
      "\u001b[0;32m~/miniconda3/lib/python3.8/site-packages/pandas/io/parsers.py\u001b[0m in \u001b[0;36m__init__\u001b[0;34m(self, f, engine, **kwds)\u001b[0m\n\u001b[1;32m    944\u001b[0m             \u001b[0mself\u001b[0m\u001b[0;34m.\u001b[0m\u001b[0moptions\u001b[0m\u001b[0;34m[\u001b[0m\u001b[0;34m\"has_index_names\"\u001b[0m\u001b[0;34m]\u001b[0m \u001b[0;34m=\u001b[0m \u001b[0mkwds\u001b[0m\u001b[0;34m[\u001b[0m\u001b[0;34m\"has_index_names\"\u001b[0m\u001b[0;34m]\u001b[0m\u001b[0;34m\u001b[0m\u001b[0;34m\u001b[0m\u001b[0m\n\u001b[1;32m    945\u001b[0m \u001b[0;34m\u001b[0m\u001b[0m\n\u001b[0;32m--> 946\u001b[0;31m         \u001b[0mself\u001b[0m\u001b[0;34m.\u001b[0m\u001b[0m_make_engine\u001b[0m\u001b[0;34m(\u001b[0m\u001b[0mself\u001b[0m\u001b[0;34m.\u001b[0m\u001b[0mengine\u001b[0m\u001b[0;34m)\u001b[0m\u001b[0;34m\u001b[0m\u001b[0;34m\u001b[0m\u001b[0m\n\u001b[0m\u001b[1;32m    947\u001b[0m \u001b[0;34m\u001b[0m\u001b[0m\n\u001b[1;32m    948\u001b[0m     \u001b[0;32mdef\u001b[0m \u001b[0mclose\u001b[0m\u001b[0;34m(\u001b[0m\u001b[0mself\u001b[0m\u001b[0;34m)\u001b[0m\u001b[0;34m:\u001b[0m\u001b[0;34m\u001b[0m\u001b[0;34m\u001b[0m\u001b[0m\n",
      "\u001b[0;32m~/miniconda3/lib/python3.8/site-packages/pandas/io/parsers.py\u001b[0m in \u001b[0;36m_make_engine\u001b[0;34m(self, engine)\u001b[0m\n\u001b[1;32m   1176\u001b[0m     \u001b[0;32mdef\u001b[0m \u001b[0m_make_engine\u001b[0m\u001b[0;34m(\u001b[0m\u001b[0mself\u001b[0m\u001b[0;34m,\u001b[0m \u001b[0mengine\u001b[0m\u001b[0;34m=\u001b[0m\u001b[0;34m\"c\"\u001b[0m\u001b[0;34m)\u001b[0m\u001b[0;34m:\u001b[0m\u001b[0;34m\u001b[0m\u001b[0;34m\u001b[0m\u001b[0m\n\u001b[1;32m   1177\u001b[0m         \u001b[0;32mif\u001b[0m \u001b[0mengine\u001b[0m \u001b[0;34m==\u001b[0m \u001b[0;34m\"c\"\u001b[0m\u001b[0;34m:\u001b[0m\u001b[0;34m\u001b[0m\u001b[0;34m\u001b[0m\u001b[0m\n\u001b[0;32m-> 1178\u001b[0;31m             \u001b[0mself\u001b[0m\u001b[0;34m.\u001b[0m\u001b[0m_engine\u001b[0m \u001b[0;34m=\u001b[0m \u001b[0mCParserWrapper\u001b[0m\u001b[0;34m(\u001b[0m\u001b[0mself\u001b[0m\u001b[0;34m.\u001b[0m\u001b[0mf\u001b[0m\u001b[0;34m,\u001b[0m \u001b[0;34m**\u001b[0m\u001b[0mself\u001b[0m\u001b[0;34m.\u001b[0m\u001b[0moptions\u001b[0m\u001b[0;34m)\u001b[0m\u001b[0;34m\u001b[0m\u001b[0;34m\u001b[0m\u001b[0m\n\u001b[0m\u001b[1;32m   1179\u001b[0m         \u001b[0;32melse\u001b[0m\u001b[0;34m:\u001b[0m\u001b[0;34m\u001b[0m\u001b[0;34m\u001b[0m\u001b[0m\n\u001b[1;32m   1180\u001b[0m             \u001b[0;32mif\u001b[0m \u001b[0mengine\u001b[0m \u001b[0;34m==\u001b[0m \u001b[0;34m\"python\"\u001b[0m\u001b[0;34m:\u001b[0m\u001b[0;34m\u001b[0m\u001b[0;34m\u001b[0m\u001b[0m\n",
      "\u001b[0;32m~/miniconda3/lib/python3.8/site-packages/pandas/io/parsers.py\u001b[0m in \u001b[0;36m__init__\u001b[0;34m(self, src, **kwds)\u001b[0m\n\u001b[1;32m   2006\u001b[0m         \u001b[0mkwds\u001b[0m\u001b[0;34m[\u001b[0m\u001b[0;34m\"usecols\"\u001b[0m\u001b[0;34m]\u001b[0m \u001b[0;34m=\u001b[0m \u001b[0mself\u001b[0m\u001b[0;34m.\u001b[0m\u001b[0musecols\u001b[0m\u001b[0;34m\u001b[0m\u001b[0;34m\u001b[0m\u001b[0m\n\u001b[1;32m   2007\u001b[0m \u001b[0;34m\u001b[0m\u001b[0m\n\u001b[0;32m-> 2008\u001b[0;31m         \u001b[0mself\u001b[0m\u001b[0;34m.\u001b[0m\u001b[0m_reader\u001b[0m \u001b[0;34m=\u001b[0m \u001b[0mparsers\u001b[0m\u001b[0;34m.\u001b[0m\u001b[0mTextReader\u001b[0m\u001b[0;34m(\u001b[0m\u001b[0msrc\u001b[0m\u001b[0;34m,\u001b[0m \u001b[0;34m**\u001b[0m\u001b[0mkwds\u001b[0m\u001b[0;34m)\u001b[0m\u001b[0;34m\u001b[0m\u001b[0;34m\u001b[0m\u001b[0m\n\u001b[0m\u001b[1;32m   2009\u001b[0m         \u001b[0mself\u001b[0m\u001b[0;34m.\u001b[0m\u001b[0munnamed_cols\u001b[0m \u001b[0;34m=\u001b[0m \u001b[0mself\u001b[0m\u001b[0;34m.\u001b[0m\u001b[0m_reader\u001b[0m\u001b[0;34m.\u001b[0m\u001b[0munnamed_cols\u001b[0m\u001b[0;34m\u001b[0m\u001b[0;34m\u001b[0m\u001b[0m\n\u001b[1;32m   2010\u001b[0m \u001b[0;34m\u001b[0m\u001b[0m\n",
      "\u001b[0;32mpandas/_libs/parsers.pyx\u001b[0m in \u001b[0;36mpandas._libs.parsers.TextReader.__cinit__\u001b[0;34m()\u001b[0m\n",
      "\u001b[0;32mpandas/_libs/parsers.pyx\u001b[0m in \u001b[0;36mpandas._libs.parsers.TextReader._setup_parser_source\u001b[0;34m()\u001b[0m\n",
      "\u001b[0;31mFileNotFoundError\u001b[0m: [Errno 2] No such file or directory: '../final_final_testing/buffer_PPs_VAP_two_phase_1.csv'"
     ]
    }
   ],
   "source": [
    "for i in range(1,14):\n",
    "    print(f\"buffer_PPs_VAP_two_phase_{i}: \", end=\"\")\n",
    "    easy_calculateMODs(f\"buffer_PPs_VAP_two_phase_{i}\")"
   ]
  },
  {
   "cell_type": "code",
   "execution_count": null,
   "metadata": {},
   "outputs": [],
   "source": []
  },
  {
   "cell_type": "code",
   "execution_count": 26,
   "metadata": {},
   "outputs": [],
   "source": [
    "run = \"scaleVotes_PPs_VAP_two_phase_statewide_1\"\n",
    "df = pd.read_csv(f\"../final_testing/{run}.csv\")\n",
    "df = pd.merge(df, VTDtoHD, how='inner')"
   ]
  },
  {
   "cell_type": "code",
   "execution_count": 27,
   "metadata": {},
   "outputs": [],
   "source": [
    "df = df.groupby(by=\"HD\").sum()"
   ]
  },
  {
   "cell_type": "code",
   "execution_count": 28,
   "metadata": {},
   "outputs": [
    {
     "data": {
      "text/html": [
       "<div>\n",
       "<style scoped>\n",
       "    .dataframe tbody tr th:only-of-type {\n",
       "        vertical-align: middle;\n",
       "    }\n",
       "\n",
       "    .dataframe tbody tr th {\n",
       "        vertical-align: top;\n",
       "    }\n",
       "\n",
       "    .dataframe thead th {\n",
       "        text-align: right;\n",
       "    }\n",
       "</style>\n",
       "<table border=\"1\" class=\"dataframe\">\n",
       "  <thead>\n",
       "    <tr style=\"text-align: right;\">\n",
       "      <th></th>\n",
       "      <th>CNTY_x</th>\n",
       "      <th>TOTPOP</th>\n",
       "      <th>BPOP</th>\n",
       "      <th>HPOP</th>\n",
       "      <th>CVAP_2012</th>\n",
       "      <th>BCVAP_2012</th>\n",
       "      <th>HCVAP_2012</th>\n",
       "      <th>Obama</th>\n",
       "      <th>Romney</th>\n",
       "      <th>bvotes</th>\n",
       "      <th>hvotes</th>\n",
       "      <th>ovotes</th>\n",
       "      <th>BRvotes</th>\n",
       "      <th>BDvotes</th>\n",
       "      <th>HRvotes</th>\n",
       "      <th>HDvotes</th>\n",
       "      <th>ORvotes</th>\n",
       "      <th>ODvotes</th>\n",
       "    </tr>\n",
       "    <tr>\n",
       "      <th>HD</th>\n",
       "      <th></th>\n",
       "      <th></th>\n",
       "      <th></th>\n",
       "      <th></th>\n",
       "      <th></th>\n",
       "      <th></th>\n",
       "      <th></th>\n",
       "      <th></th>\n",
       "      <th></th>\n",
       "      <th></th>\n",
       "      <th></th>\n",
       "      <th></th>\n",
       "      <th></th>\n",
       "      <th></th>\n",
       "      <th></th>\n",
       "      <th></th>\n",
       "      <th></th>\n",
       "      <th></th>\n",
       "    </tr>\n",
       "  </thead>\n",
       "  <tbody>\n",
       "    <tr>\n",
       "      <th>130</th>\n",
       "      <td>7638</td>\n",
       "      <td>122108</td>\n",
       "      <td>8807</td>\n",
       "      <td>21667</td>\n",
       "      <td>109844</td>\n",
       "      <td>8428</td>\n",
       "      <td>14847</td>\n",
       "      <td>15928</td>\n",
       "      <td>53020</td>\n",
       "      <td>2855.678291</td>\n",
       "      <td>4434.418113</td>\n",
       "      <td>61650.720191</td>\n",
       "      <td>301.268034</td>\n",
       "      <td>3585.412091</td>\n",
       "      <td>744.581258</td>\n",
       "      <td>4926.564887</td>\n",
       "      <td>27983.913489</td>\n",
       "      <td>5116.839072</td>\n",
       "    </tr>\n",
       "    <tr>\n",
       "      <th>131</th>\n",
       "      <td>7638</td>\n",
       "      <td>121368</td>\n",
       "      <td>49807</td>\n",
       "      <td>49951</td>\n",
       "      <td>90360</td>\n",
       "      <td>48804</td>\n",
       "      <td>22778</td>\n",
       "      <td>36581</td>\n",
       "      <td>6861</td>\n",
       "      <td>21086.143868</td>\n",
       "      <td>9622.771929</td>\n",
       "      <td>12721.912785</td>\n",
       "      <td>89.048284</td>\n",
       "      <td>4586.918592</td>\n",
       "      <td>643.720846</td>\n",
       "      <td>6015.488291</td>\n",
       "      <td>11640.046509</td>\n",
       "      <td>10054.984383</td>\n",
       "    </tr>\n",
       "  </tbody>\n",
       "</table>\n",
       "</div>"
      ],
      "text/plain": [
       "     CNTY_x  TOTPOP   BPOP   HPOP  CVAP_2012  BCVAP_2012  HCVAP_2012  Obama  \\\n",
       "HD                                                                            \n",
       "130    7638  122108   8807  21667     109844        8428       14847  15928   \n",
       "131    7638  121368  49807  49951      90360       48804       22778  36581   \n",
       "\n",
       "     Romney        bvotes       hvotes        ovotes     BRvotes      BDvotes  \\\n",
       "HD                                                                              \n",
       "130   53020   2855.678291  4434.418113  61650.720191  301.268034  3585.412091   \n",
       "131    6861  21086.143868  9622.771929  12721.912785   89.048284  4586.918592   \n",
       "\n",
       "        HRvotes      HDvotes       ORvotes       ODvotes  \n",
       "HD                                                        \n",
       "130  744.581258  4926.564887  27983.913489   5116.839072  \n",
       "131  643.720846  6015.488291  11640.046509  10054.984383  "
      ]
     },
     "execution_count": 28,
     "metadata": {},
     "output_type": "execute_result"
    }
   ],
   "source": [
    "df.iloc[129:131]"
   ]
  },
  {
   "cell_type": "code",
   "execution_count": 25,
   "metadata": {},
   "outputs": [
    {
     "data": {
      "text/plain": [
       "[10,\n",
       " 35,\n",
       " 43,\n",
       " 44,\n",
       " 45,\n",
       " 46,\n",
       " 53,\n",
       " 54,\n",
       " 55,\n",
       " 65,\n",
       " 66,\n",
       " 74,\n",
       " 75,\n",
       " 78,\n",
       " 83,\n",
       " 101,\n",
       " 104,\n",
       " 105,\n",
       " 107,\n",
       " 110,\n",
       " 111,\n",
       " 112,\n",
       " 113,\n",
       " 114,\n",
       " 115,\n",
       " 130,\n",
       " 132,\n",
       " 133,\n",
       " 138,\n",
       " 139,\n",
       " 141,\n",
       " 143,\n",
       " 144,\n",
       " 147]"
      ]
     },
     "execution_count": 25,
     "metadata": {},
     "output_type": "execute_result"
    }
   ],
   "source": [
    "statewide_MODs"
   ]
  },
  {
   "cell_type": "code",
   "execution_count": 9,
   "metadata": {
    "collapsed": true,
    "jupyter": {
     "outputs_hidden": true
    }
   },
   "outputs": [
    {
     "name": "stdout",
     "output_type": "stream",
     "text": [
      "Case 1: 34\n",
      "Case 2: 1\n",
      "Case 3: 0\n",
      "Case 4: 0\n"
     ]
    },
    {
     "data": {
      "text/plain": [
       "[21,\n",
       " 26,\n",
       " 33,\n",
       " 34,\n",
       " 35,\n",
       " 36,\n",
       " 37,\n",
       " 38,\n",
       " 39,\n",
       " 40,\n",
       " 41,\n",
       " 73,\n",
       " 74,\n",
       " 75,\n",
       " 76,\n",
       " 78,\n",
       " 79,\n",
       " 89,\n",
       " 94,\n",
       " 99,\n",
       " 103,\n",
       " 108,\n",
       " 109,\n",
       " 110,\n",
       " 117,\n",
       " 119,\n",
       " 130,\n",
       " 138,\n",
       " 139,\n",
       " 140,\n",
       " 141,\n",
       " 142,\n",
       " 145,\n",
       " 146]"
      ]
     },
     "execution_count": 9,
     "metadata": {},
     "output_type": "execute_result"
    }
   ],
   "source": [
    "easy_calculateMODs(\"buffer_PPs_VAP_two_phase_12\")"
   ]
  },
  {
   "cell_type": "code",
   "execution_count": 61,
   "metadata": {
    "collapsed": true,
    "jupyter": {
     "outputs_hidden": true
    }
   },
   "outputs": [
    {
     "data": {
      "text/plain": [
       "[10,\n",
       " 35,\n",
       " 43,\n",
       " 44,\n",
       " 45,\n",
       " 46,\n",
       " 53,\n",
       " 54,\n",
       " 55,\n",
       " 65,\n",
       " 66,\n",
       " 74,\n",
       " 75,\n",
       " 78,\n",
       " 83,\n",
       " 101,\n",
       " 104,\n",
       " 105,\n",
       " 107,\n",
       " 110,\n",
       " 111,\n",
       " 112,\n",
       " 113,\n",
       " 114,\n",
       " 115,\n",
       " 132,\n",
       " 133,\n",
       " 138,\n",
       " 139,\n",
       " 141,\n",
       " 143,\n",
       " 144,\n",
       " 147]"
      ]
     },
     "execution_count": 61,
     "metadata": {},
     "output_type": "execute_result"
    }
   ],
   "source": [
    "statewide_MODs"
   ]
  },
  {
   "cell_type": "code",
   "execution_count": 62,
   "metadata": {},
   "outputs": [
    {
     "name": "stdout",
     "output_type": "stream",
     "text": [
      "Case 1: 39\n",
      "Case 2: 6\n",
      "Case 3: 0\n",
      "Case 4: 0\n"
     ]
    }
   ],
   "source": [
    "county_MODs = easy_calculateMODs(\"scaleVotes_PPs_VAP_two_phase_1\")"
   ]
  },
  {
   "cell_type": "code",
   "execution_count": 36,
   "metadata": {},
   "outputs": [
    {
     "name": "stdout",
     "output_type": "stream",
     "text": [
      "51\n",
      "51\n",
      "51\n",
      "51\n",
      "51\n",
      "51\n",
      "51\n",
      "51\n",
      "51\n",
      "51\n"
     ]
    }
   ],
   "source": [
    "for i in range(1,11):\n",
    "    easy_calculateMODs(f\"scalePop_PPs_CVAP_one_phase_statewide_{i}\")"
   ]
  },
  {
   "cell_type": "code",
   "execution_count": 35,
   "metadata": {},
   "outputs": [
    {
     "name": "stdout",
     "output_type": "stream",
     "text": [
      "51\n"
     ]
    },
    {
     "data": {
      "text/plain": [
       "[21,\n",
       " 26,\n",
       " 30,\n",
       " 33,\n",
       " 34,\n",
       " 35,\n",
       " 36,\n",
       " 37,\n",
       " 38,\n",
       " 39,\n",
       " 40,\n",
       " 41,\n",
       " 45,\n",
       " 50,\n",
       " 73,\n",
       " 74,\n",
       " 75,\n",
       " 76,\n",
       " 77,\n",
       " 78,\n",
       " 79,\n",
       " 89,\n",
       " 94,\n",
       " 99,\n",
       " 100,\n",
       " 102,\n",
       " 103,\n",
       " 108,\n",
       " 109,\n",
       " 110,\n",
       " 115,\n",
       " 116,\n",
       " 117,\n",
       " 118,\n",
       " 119,\n",
       " 122,\n",
       " 123,\n",
       " 124,\n",
       " 130,\n",
       " 136,\n",
       " 138,\n",
       " 139,\n",
       " 140,\n",
       " 141,\n",
       " 142,\n",
       " 143,\n",
       " 144,\n",
       " 145,\n",
       " 146,\n",
       " 147,\n",
       " 148]"
      ]
     },
     "execution_count": 35,
     "metadata": {},
     "output_type": "execute_result"
    }
   ],
   "source": [
    "easy_calculateMODs(\"scalePop_PPs_CVAP_one_phase_statewide_1\")"
   ]
  },
  {
   "cell_type": "code",
   "execution_count": 28,
   "metadata": {},
   "outputs": [
    {
     "name": "stdout",
     "output_type": "stream",
     "text": [
      "Case 1: 40\n",
      "Case 2: 5\n",
      "Case 3: 0\n",
      "Case 4: 0\n",
      "scaleVotes_PPs_VAP_two_phase_2: 45\n"
     ]
    }
   ],
   "source": [
    "easy_calculateMODs(\"scaleVotes_PPs_VAP_two_phase_2\")"
   ]
  },
  {
   "cell_type": "code",
   "execution_count": 29,
   "metadata": {},
   "outputs": [
    {
     "name": "stdout",
     "output_type": "stream",
     "text": [
      "Case 1: 39\n",
      "Case 2: 6\n",
      "Case 3: 0\n",
      "Case 4: 0\n",
      "scaleVotes_PPs_VAP_two_phase_1: 45\n"
     ]
    }
   ],
   "source": [
    "easy_calculateMODs(\"scaleVotes_PPs_VAP_two_phase_1\")"
   ]
  },
  {
   "cell_type": "code",
   "execution_count": 255,
   "metadata": {},
   "outputs": [
    {
     "name": "stdout",
     "output_type": "stream",
     "text": [
      "buffer_PPs_VAP_two_phase_1: 36\n"
     ]
    }
   ],
   "source": [
    "easy_calculateMODs(\"buffer_PPs_VAP_two_phase_1\")"
   ]
  },
  {
   "cell_type": "code",
   "execution_count": 256,
   "metadata": {},
   "outputs": [
    {
     "name": "stdout",
     "output_type": "stream",
     "text": [
      "buffer_PPs_VAP_two_phase_2: 34\n"
     ]
    }
   ],
   "source": [
    "easy_calculateMODs(\"buffer_PPs_VAP_two_phase_2\")"
   ]
  },
  {
   "cell_type": "code",
   "execution_count": 19,
   "metadata": {},
   "outputs": [],
   "source": [
    "def compare_runs(run1, run2):\n",
    "    df1 = pd.read_csv(f\"../final_final_testing/{run1}.csv\")\n",
    "    df2 = pd.read_csv(f\"../final_final_testing/{run2}.csv\")\n",
    "\n",
    "    fig, ax = plt.subplots(figsize=(12,8))\n",
    "    plt.title(f\"Comparing EI flavors — {run1} vs. {run2}\")\n",
    "    plt.xlabel(f\"Rep Share of BVAP vote, {run1}\")\n",
    "    plt.ylabel(f\"Rep Share of BVAP vote, {run2}\")\n",
    "#     x = df1[\"BDvotes\"] / df1[\"bvotes\"]\n",
    "#     y = df2[\"BDvotes\"] / df2[\"bvotes\"]\n",
    "    x = df1[\"BDvotes\"] / (df1[\"BDvotes\"] + df1[\"BRvotes\"])\n",
    "    y = df2[\"BDvotes\"] / (df2[\"BDvotes\"] + df2[\"BRvotes\"])\n",
    "#     x = df1[\"BRvotes\"] / df1[\"BPOP\"]\n",
    "#     y = df2[\"BRvotes\"] / df2[\"BPOP\"]\n",
    "    upper = min(max(x), max(y))\n",
    "    lower = max(min(x), min(y))\n",
    "    print(lower, upper)\n",
    "    if upper > 10000:\n",
    "        upper = 120\n",
    "        ax.set_xlim(-2,120)\n",
    "        ax.set_ylim(-2,120)\n",
    "    ax.scatter(x, y)\n",
    "    ax.plot([lower,upper], [lower,upper])\n",
    "    plt.show()"
   ]
  },
  {
   "cell_type": "code",
   "execution_count": 31,
   "metadata": {},
   "outputs": [
    {
     "name": "stdout",
     "output_type": "stream",
     "text": [
      "0.12050767273316036 0.9995120929686043\n"
     ]
    },
    {
     "data": {
      "image/png": "[encoded data removed]",
      "text/plain": [
       "<Figure size 864x576 with 1 Axes>"
      ]
     },
     "metadata": {
      "needs_background": "light"
     },
     "output_type": "display_data"
    }
   ],
   "source": [
    "compare_runs(\"scalePop_PPs_CVAP_one_phase_statewide_3\", \"scalePop_PPs_CVAP_one_phase_statewide_5\")"
   ]
  },
  {
   "cell_type": "code",
   "execution_count": 27,
   "metadata": {},
   "outputs": [
    {
     "name": "stdout",
     "output_type": "stream",
     "text": [
      "0.03315796469559282 0.9994361264362196\n"
     ]
    },
    {
     "data": {
      "image/png": "[encoded data removed]",
      "text/plain": [
       "<Figure size 864x576 with 1 Axes>"
      ]
     },
     "metadata": {
      "needs_background": "light"
     },
     "output_type": "display_data"
    }
   ],
   "source": [
    "compare_runs(\"scaleVotes_PPs_VAP_two_phase_1\", \"scaleVotes_PPs_VAP_two_phase_statewide_2\")"
   ]
  },
  {
   "cell_type": "markdown",
   "metadata": {},
   "source": [
    "## Investigating stability with different EI flavors\n",
    "**buffer / scaleVotes / scalePop**\n",
    " * **buffer**: add a buffer column to account for population/votes discrepancies\n",
    " * **scaleVotes**: when (C)VAP < totvotes, scale Obama and Romney down to match...\\[explain more\\]\n",
    " * **scalePop**: when (C)VAP < totvotes, scale \\_(C)VAP up to match totvotes"
   ]
  },
  {
   "cell_type": "code",
   "execution_count": 232,
   "metadata": {},
   "outputs": [
    {
     "name": "stdout",
     "output_type": "stream",
     "text": [
      "0.00019420805168820203 0.92793708523777\n"
     ]
    },
    {
     "data": {
      "image/png": "[encoded data removed]",
      "text/plain": [
       "<Figure size 864x576 with 1 Axes>"
      ]
     },
     "metadata": {
      "needs_background": "light"
     },
     "output_type": "display_data"
    }
   ],
   "source": [
    "compare_runs(\"buffer_PPs_VAP_two_phase_1\", \"buffer_PPs_VAP_two_phase_2\")"
   ]
  },
  {
   "cell_type": "code",
   "execution_count": 246,
   "metadata": {},
   "outputs": [
    {
     "name": "stdout",
     "output_type": "stream",
     "text": [
      "4.754805181489322e-05 0.49635414089084506\n"
     ]
    },
    {
     "data": {
      "image/png": "[encoded data removed]",
      "text/plain": [
       "<Figure size 864x576 with 1 Axes>"
      ]
     },
     "metadata": {
      "needs_background": "light"
     },
     "output_type": "display_data"
    }
   ],
   "source": [
    "compare_runs(\"scaleVotes_PPs_VAP_two_phase_1\", \"scaleVotes_PPs_VAP_two_phase_2\")"
   ]
  },
  {
   "cell_type": "code",
   "execution_count": 249,
   "metadata": {},
   "outputs": [
    {
     "name": "stdout",
     "output_type": "stream",
     "text": [
      "0.0 inf\n"
     ]
    },
    {
     "data": {
      "image/png": "[encoded data removed]",
      "text/plain": [
       "<Figure size 864x576 with 1 Axes>"
      ]
     },
     "metadata": {
      "needs_background": "light"
     },
     "output_type": "display_data"
    }
   ],
   "source": [
    "compare_runs(\"scaleVotes_PPs_VAP_two_phase_statewide_1\", \"scaleVotes_PPs_VAP_two_phase_statewide_2\")"
   ]
  },
  {
   "cell_type": "code",
   "execution_count": 200,
   "metadata": {},
   "outputs": [
    {
     "data": {
      "image/png": "[encoded data removed]",
      "text/plain": [
       "<Figure size 864x576 with 1 Axes>"
      ]
     },
     "metadata": {
      "needs_background": "light"
     },
     "output_type": "display_data"
    }
   ],
   "source": [
    "compare_runs(\"scaleVotes_PPs_VAP_two_phase_1\", \"scaleVotes_PPs_VAP_two_phase_statewide_2\")"
   ]
  },
  {
   "cell_type": "code",
   "execution_count": 213,
   "metadata": {},
   "outputs": [],
   "source": [
    "df1 = pd.read_csv(f\"../final_testing/scaleVotes_PPs_VAP_two_phase_statewide_1.csv\")\n",
    "df2 = pd.read_csv(f\"../final_testing/scaleVotes_PPs_VAP_two_phase_statewide_2.csv\")"
   ]
  },
  {
   "cell_type": "code",
   "execution_count": 214,
   "metadata": {},
   "outputs": [],
   "source": [
    "more = list(np.where(df1[\"BRvotes\"] > df1[\"BPOP\"])[0])"
   ]
  },
  {
   "cell_type": "code",
   "execution_count": 217,
   "metadata": {},
   "outputs": [
    {
     "data": {
      "text/plain": [
       "CNTY_x               5\n",
       "CNTYVTD          50023\n",
       "TOTPOP             595\n",
       "BPOP                 2\n",
       "HPOP                17\n",
       "CVAP_2012          520\n",
       "BCVAP_2012          24\n",
       "HCVAP_2012          24\n",
       "Obama               51\n",
       "Romney             260\n",
       "bvotes        0.679387\n",
       "hvotes         3.63876\n",
       "ovotes           306.9\n",
       "BRvotes        3.73914\n",
       "BDvotes        40.6108\n",
       "HRvotes        9.82233\n",
       "HDvotes        63.5346\n",
       "ORvotes        1444.81\n",
       "ODvotes         265.76\n",
       "Name: 50, dtype: object"
      ]
     },
     "execution_count": 217,
     "metadata": {},
     "output_type": "execute_result"
    }
   ],
   "source": [
    "df1.iloc[50]"
   ]
  },
  {
   "cell_type": "code",
   "execution_count": 216,
   "metadata": {},
   "outputs": [
    {
     "data": {
      "text/plain": [
       "1417"
      ]
     },
     "execution_count": 216,
     "metadata": {},
     "output_type": "execute_result"
    }
   ],
   "source": [
    "len(more)"
   ]
  },
  {
   "cell_type": "code",
   "execution_count": 177,
   "metadata": {},
   "outputs": [],
   "source": [
    "farAways = list(np.where(abs((df1[\"BDvotes\"] / (df1[\"BDvotes\"] + df1[\"BRvotes\"])) - \\\n",
    "                    (df2[\"BDvotes\"] / (df2[\"BDvotes\"] + df2[\"BRvotes\"]))) > 0.25)[0])"
   ]
  },
  {
   "cell_type": "code",
   "execution_count": 178,
   "metadata": {},
   "outputs": [
    {
     "data": {
      "text/plain": [
       "12"
      ]
     },
     "execution_count": 178,
     "metadata": {},
     "output_type": "execute_result"
    }
   ],
   "source": [
    "len(farAways)"
   ]
  },
  {
   "cell_type": "code",
   "execution_count": 134,
   "metadata": {},
   "outputs": [
    {
     "data": {
      "text/plain": [
       "[9, 355, 369, 376, 545]"
      ]
     },
     "execution_count": 134,
     "metadata": {},
     "output_type": "execute_result"
    }
   ],
   "source": [
    "farAways[:5]"
   ]
  },
  {
   "cell_type": "code",
   "execution_count": 138,
   "metadata": {},
   "outputs": [
    {
     "data": {
      "text/html": [
       "<div>\n",
       "<style scoped>\n",
       "    .dataframe tbody tr th:only-of-type {\n",
       "        vertical-align: middle;\n",
       "    }\n",
       "\n",
       "    .dataframe tbody tr th {\n",
       "        vertical-align: top;\n",
       "    }\n",
       "\n",
       "    .dataframe thead th {\n",
       "        text-align: right;\n",
       "    }\n",
       "</style>\n",
       "<table border=\"1\" class=\"dataframe\">\n",
       "  <thead>\n",
       "    <tr style=\"text-align: right;\">\n",
       "      <th></th>\n",
       "      <th>CNTY_x</th>\n",
       "      <th>CNTYVTD</th>\n",
       "      <th>TOTPOP</th>\n",
       "      <th>BPOP</th>\n",
       "      <th>HPOP</th>\n",
       "      <th>CVAP_2012</th>\n",
       "      <th>BCVAP_2012</th>\n",
       "      <th>HCVAP_2012</th>\n",
       "      <th>Obama</th>\n",
       "      <th>Romney</th>\n",
       "      <th>bvotes</th>\n",
       "      <th>hvotes</th>\n",
       "      <th>ovotes</th>\n",
       "      <th>BRvotes</th>\n",
       "      <th>BDvotes</th>\n",
       "      <th>HRvotes</th>\n",
       "      <th>HDvotes</th>\n",
       "      <th>ORvotes</th>\n",
       "      <th>ODvotes</th>\n",
       "    </tr>\n",
       "  </thead>\n",
       "  <tbody>\n",
       "    <tr>\n",
       "      <th>8</th>\n",
       "      <td>1</td>\n",
       "      <td>10009</td>\n",
       "      <td>1599</td>\n",
       "      <td>132</td>\n",
       "      <td>104</td>\n",
       "      <td>1612</td>\n",
       "      <td>323</td>\n",
       "      <td>79</td>\n",
       "      <td>157</td>\n",
       "      <td>559</td>\n",
       "      <td>28.651907</td>\n",
       "      <td>26.379902</td>\n",
       "      <td>661.298962</td>\n",
       "      <td>9.731873</td>\n",
       "      <td>18.920034</td>\n",
       "      <td>10.531652</td>\n",
       "      <td>15.848250</td>\n",
       "      <td>539.359667</td>\n",
       "      <td>121.939295</td>\n",
       "    </tr>\n",
       "    <tr>\n",
       "      <th>9</th>\n",
       "      <td>1</td>\n",
       "      <td>10010</td>\n",
       "      <td>6925</td>\n",
       "      <td>2641</td>\n",
       "      <td>1572</td>\n",
       "      <td>7526</td>\n",
       "      <td>2687</td>\n",
       "      <td>1615</td>\n",
       "      <td>45</td>\n",
       "      <td>278</td>\n",
       "      <td>55.684875</td>\n",
       "      <td>64.800845</td>\n",
       "      <td>205.791734</td>\n",
       "      <td>35.032519</td>\n",
       "      <td>20.652356</td>\n",
       "      <td>47.207217</td>\n",
       "      <td>17.593627</td>\n",
       "      <td>194.972558</td>\n",
       "      <td>10.819176</td>\n",
       "    </tr>\n",
       "  </tbody>\n",
       "</table>\n",
       "</div>"
      ],
      "text/plain": [
       "   CNTY_x CNTYVTD  TOTPOP  BPOP  HPOP  CVAP_2012  BCVAP_2012  HCVAP_2012  \\\n",
       "8       1   10009    1599   132   104       1612         323          79   \n",
       "9       1   10010    6925  2641  1572       7526        2687        1615   \n",
       "\n",
       "   Obama  Romney     bvotes     hvotes      ovotes    BRvotes    BDvotes  \\\n",
       "8    157     559  28.651907  26.379902  661.298962   9.731873  18.920034   \n",
       "9     45     278  55.684875  64.800845  205.791734  35.032519  20.652356   \n",
       "\n",
       "     HRvotes    HDvotes     ORvotes     ODvotes  \n",
       "8  10.531652  15.848250  539.359667  121.939295  \n",
       "9  47.207217  17.593627  194.972558   10.819176  "
      ]
     },
     "execution_count": 138,
     "metadata": {},
     "output_type": "execute_result"
    }
   ],
   "source": [
    "df1.iloc[8:10]"
   ]
  },
  {
   "cell_type": "code",
   "execution_count": 139,
   "metadata": {},
   "outputs": [
    {
     "data": {
      "text/html": [
       "<div>\n",
       "<style scoped>\n",
       "    .dataframe tbody tr th:only-of-type {\n",
       "        vertical-align: middle;\n",
       "    }\n",
       "\n",
       "    .dataframe tbody tr th {\n",
       "        vertical-align: top;\n",
       "    }\n",
       "\n",
       "    .dataframe thead th {\n",
       "        text-align: right;\n",
       "    }\n",
       "</style>\n",
       "<table border=\"1\" class=\"dataframe\">\n",
       "  <thead>\n",
       "    <tr style=\"text-align: right;\">\n",
       "      <th></th>\n",
       "      <th>CNTY_x</th>\n",
       "      <th>CNTYVTD</th>\n",
       "      <th>TOTPOP</th>\n",
       "      <th>BPOP</th>\n",
       "      <th>HPOP</th>\n",
       "      <th>CVAP_2012</th>\n",
       "      <th>BCVAP_2012</th>\n",
       "      <th>HCVAP_2012</th>\n",
       "      <th>Obama</th>\n",
       "      <th>Romney</th>\n",
       "      <th>bvotes</th>\n",
       "      <th>hvotes</th>\n",
       "      <th>ovotes</th>\n",
       "      <th>BRvotes</th>\n",
       "      <th>BDvotes</th>\n",
       "      <th>HRvotes</th>\n",
       "      <th>HDvotes</th>\n",
       "      <th>ORvotes</th>\n",
       "      <th>ODvotes</th>\n",
       "    </tr>\n",
       "  </thead>\n",
       "  <tbody>\n",
       "    <tr>\n",
       "      <th>8</th>\n",
       "      <td>1</td>\n",
       "      <td>10009</td>\n",
       "      <td>1599</td>\n",
       "      <td>132</td>\n",
       "      <td>104</td>\n",
       "      <td>1612</td>\n",
       "      <td>323</td>\n",
       "      <td>79</td>\n",
       "      <td>157</td>\n",
       "      <td>559</td>\n",
       "      <td>29.543444</td>\n",
       "      <td>27.682443</td>\n",
       "      <td>659.213503</td>\n",
       "      <td>10.342713</td>\n",
       "      <td>19.200731</td>\n",
       "      <td>11.066148</td>\n",
       "      <td>16.616295</td>\n",
       "      <td>538.112938</td>\n",
       "      <td>121.100565</td>\n",
       "    </tr>\n",
       "    <tr>\n",
       "      <th>9</th>\n",
       "      <td>1</td>\n",
       "      <td>10010</td>\n",
       "      <td>6925</td>\n",
       "      <td>2641</td>\n",
       "      <td>1572</td>\n",
       "      <td>7526</td>\n",
       "      <td>2687</td>\n",
       "      <td>1615</td>\n",
       "      <td>45</td>\n",
       "      <td>278</td>\n",
       "      <td>56.363121</td>\n",
       "      <td>66.113261</td>\n",
       "      <td>204.094843</td>\n",
       "      <td>35.871366</td>\n",
       "      <td>20.491756</td>\n",
       "      <td>47.997342</td>\n",
       "      <td>18.115920</td>\n",
       "      <td>193.315981</td>\n",
       "      <td>10.778863</td>\n",
       "    </tr>\n",
       "  </tbody>\n",
       "</table>\n",
       "</div>"
      ],
      "text/plain": [
       "   CNTY_x CNTYVTD  TOTPOP  BPOP  HPOP  CVAP_2012  BCVAP_2012  HCVAP_2012  \\\n",
       "8       1   10009    1599   132   104       1612         323          79   \n",
       "9       1   10010    6925  2641  1572       7526        2687        1615   \n",
       "\n",
       "   Obama  Romney     bvotes     hvotes      ovotes    BRvotes    BDvotes  \\\n",
       "8    157     559  29.543444  27.682443  659.213503  10.342713  19.200731   \n",
       "9     45     278  56.363121  66.113261  204.094843  35.871366  20.491756   \n",
       "\n",
       "     HRvotes    HDvotes     ORvotes     ODvotes  \n",
       "8  11.066148  16.616295  538.112938  121.100565  \n",
       "9  47.997342  18.115920  193.315981   10.778863  "
      ]
     },
     "execution_count": 139,
     "metadata": {},
     "output_type": "execute_result"
    }
   ],
   "source": [
    "df2.iloc[8:10]"
   ]
  },
  {
   "cell_type": "code",
   "execution_count": 113,
   "metadata": {},
   "outputs": [],
   "source": [
    "equalVotes = list(np.where((df1[\"BDvotes\"] + df1[\"BRvotes\"]) == df1[\"bvotes\"])[0])\n",
    "tooMany = list(np.where((df1[\"BDvotes\"] + df1[\"BRvotes\"]) > df1[\"bvotes\"])[0])\n",
    "tooFew = list(np.where((df1[\"BDvotes\"] + df1[\"BRvotes\"]) < df1[\"bvotes\"])[0])"
   ]
  },
  {
   "cell_type": "code",
   "execution_count": 114,
   "metadata": {},
   "outputs": [
    {
     "data": {
      "text/plain": [
       "8778"
      ]
     },
     "execution_count": 114,
     "metadata": {},
     "output_type": "execute_result"
    }
   ],
   "source": [
    "len(equalVotes) + len(tooMany) + len(tooFew)"
   ]
  },
  {
   "cell_type": "code",
   "execution_count": 115,
   "metadata": {},
   "outputs": [
    {
     "data": {
      "text/plain": [
       "51"
      ]
     },
     "execution_count": 115,
     "metadata": {},
     "output_type": "execute_result"
    }
   ],
   "source": [
    "len(equalVotes)"
   ]
  },
  {
   "cell_type": "code",
   "execution_count": 116,
   "metadata": {},
   "outputs": [
    {
     "data": {
      "text/plain": [
       "4358"
      ]
     },
     "execution_count": 116,
     "metadata": {},
     "output_type": "execute_result"
    }
   ],
   "source": [
    "len(tooMany)"
   ]
  },
  {
   "cell_type": "code",
   "execution_count": 117,
   "metadata": {},
   "outputs": [
    {
     "data": {
      "text/plain": [
       "4369"
      ]
     },
     "execution_count": 117,
     "metadata": {},
     "output_type": "execute_result"
    }
   ],
   "source": [
    "len(tooFew)"
   ]
  },
  {
   "cell_type": "code",
   "execution_count": 90,
   "metadata": {},
   "outputs": [],
   "source": [
    "bads = list(np.where(x > 1)[0])\n",
    "corrects = list(np.where(df1[\"BDvotes\"] + df1[\"BRvotes\"] == df1[\"bvotes\"])[0])\n",
    "incorrects = list(np.where(df1[\"BDvotes\"] + df1[\"BRvotes\"] == df1[\"bvotes\"])[0])\n",
    "moreVotes = list(np.where(df1[\"bvotes\"] > df1[\"BPOP\"])[0])"
   ]
  },
  {
   "cell_type": "code",
   "execution_count": 91,
   "metadata": {},
   "outputs": [
    {
     "data": {
      "text/plain": [
       "4358"
      ]
     },
     "execution_count": 91,
     "metadata": {},
     "output_type": "execute_result"
    }
   ],
   "source": [
    "len(corrects)"
   ]
  },
  {
   "cell_type": "code",
   "execution_count": 92,
   "metadata": {
    "collapsed": true,
    "jupyter": {
     "outputs_hidden": true
    }
   },
   "outputs": [
    {
     "data": {
      "text/plain": [
       "{8203,\n",
       " 8204,\n",
       " 8205,\n",
       " 8206,\n",
       " 8207,\n",
       " 8208,\n",
       " 8209,\n",
       " 8210,\n",
       " 8211,\n",
       " 8212,\n",
       " 8213,\n",
       " 8214,\n",
       " 8215,\n",
       " 8216,\n",
       " 8217,\n",
       " 8219,\n",
       " 8220,\n",
       " 8221,\n",
       " 8222,\n",
       " 8223,\n",
       " 33,\n",
       " 8228,\n",
       " 8230,\n",
       " 8231,\n",
       " 8232,\n",
       " 8233,\n",
       " 8234,\n",
       " 8235,\n",
       " 44,\n",
       " 8236,\n",
       " 8237,\n",
       " 8239,\n",
       " 8240,\n",
       " 49,\n",
       " 50,\n",
       " 8241,\n",
       " 8243,\n",
       " 53,\n",
       " 8244,\n",
       " 8245,\n",
       " 56,\n",
       " 57,\n",
       " 8247,\n",
       " 59,\n",
       " 60,\n",
       " 8249,\n",
       " 8251,\n",
       " 63,\n",
       " 64,\n",
       " 8252,\n",
       " 8254,\n",
       " 8258,\n",
       " 8259,\n",
       " 69,\n",
       " 70,\n",
       " 71,\n",
       " 8260,\n",
       " 73,\n",
       " 74,\n",
       " 75,\n",
       " 76,\n",
       " 77,\n",
       " 78,\n",
       " 79,\n",
       " 80,\n",
       " 81,\n",
       " 82,\n",
       " 83,\n",
       " 84,\n",
       " 85,\n",
       " 86,\n",
       " 87,\n",
       " 88,\n",
       " 89,\n",
       " 90,\n",
       " 91,\n",
       " 92,\n",
       " 93,\n",
       " 94,\n",
       " 95,\n",
       " 96,\n",
       " 97,\n",
       " 98,\n",
       " 99,\n",
       " 100,\n",
       " 8286,\n",
       " 102,\n",
       " 103,\n",
       " 104,\n",
       " 105,\n",
       " 106,\n",
       " 107,\n",
       " 108,\n",
       " 8293,\n",
       " 110,\n",
       " 111,\n",
       " 112,\n",
       " 113,\n",
       " 114,\n",
       " 115,\n",
       " 116,\n",
       " 117,\n",
       " 118,\n",
       " 8302,\n",
       " 8303,\n",
       " 8304,\n",
       " 8305,\n",
       " 8307,\n",
       " 8308,\n",
       " 8313,\n",
       " 8314,\n",
       " 8315,\n",
       " 8318,\n",
       " 8328,\n",
       " 8331,\n",
       " 8332,\n",
       " 8333,\n",
       " 142,\n",
       " 143,\n",
       " 144,\n",
       " 145,\n",
       " 146,\n",
       " 147,\n",
       " 148,\n",
       " 149,\n",
       " 150,\n",
       " 151,\n",
       " 8340,\n",
       " 8341,\n",
       " 8344,\n",
       " 8345,\n",
       " 8352,\n",
       " 164,\n",
       " 8363,\n",
       " 176,\n",
       " 177,\n",
       " 178,\n",
       " 180,\n",
       " 181,\n",
       " 182,\n",
       " 183,\n",
       " 184,\n",
       " 8373,\n",
       " 186,\n",
       " 187,\n",
       " 188,\n",
       " 189,\n",
       " 190,\n",
       " 191,\n",
       " 192,\n",
       " 193,\n",
       " 194,\n",
       " 8386,\n",
       " 8387,\n",
       " 8388,\n",
       " 198,\n",
       " 8393,\n",
       " 8394,\n",
       " 8395,\n",
       " 8396,\n",
       " 205,\n",
       " 219,\n",
       " 220,\n",
       " 224,\n",
       " 225,\n",
       " 226,\n",
       " 227,\n",
       " 8418,\n",
       " 8419,\n",
       " 230,\n",
       " 8420,\n",
       " 8421,\n",
       " 233,\n",
       " 8422,\n",
       " 8423,\n",
       " 8425,\n",
       " 8426,\n",
       " 8427,\n",
       " 8430,\n",
       " 8431,\n",
       " 8432,\n",
       " 242,\n",
       " 243,\n",
       " 244,\n",
       " 245,\n",
       " 246,\n",
       " 247,\n",
       " 248,\n",
       " 8433,\n",
       " 8435,\n",
       " 251,\n",
       " 252,\n",
       " 8436,\n",
       " 254,\n",
       " 255,\n",
       " 256,\n",
       " 257,\n",
       " 258,\n",
       " 259,\n",
       " 8443,\n",
       " 8444,\n",
       " 262,\n",
       " 263,\n",
       " 264,\n",
       " 8448,\n",
       " 266,\n",
       " 267,\n",
       " 268,\n",
       " 269,\n",
       " 270,\n",
       " 271,\n",
       " 272,\n",
       " 273,\n",
       " 274,\n",
       " 8458,\n",
       " 8459,\n",
       " 277,\n",
       " 278,\n",
       " 8462,\n",
       " 8463,\n",
       " 281,\n",
       " 282,\n",
       " 283,\n",
       " 284,\n",
       " 285,\n",
       " 286,\n",
       " 287,\n",
       " 288,\n",
       " 289,\n",
       " 290,\n",
       " 8474,\n",
       " 292,\n",
       " 293,\n",
       " 294,\n",
       " 295,\n",
       " 8479,\n",
       " 8480,\n",
       " 8481,\n",
       " 8484,\n",
       " 300,\n",
       " 301,\n",
       " 8485,\n",
       " 303,\n",
       " 304,\n",
       " 305,\n",
       " 306,\n",
       " 307,\n",
       " 308,\n",
       " 309,\n",
       " 310,\n",
       " 311,\n",
       " 312,\n",
       " 313,\n",
       " 8498,\n",
       " 315,\n",
       " 316,\n",
       " 317,\n",
       " 8502,\n",
       " 319,\n",
       " 320,\n",
       " 8504,\n",
       " 8505,\n",
       " 323,\n",
       " 324,\n",
       " 8508,\n",
       " 8511,\n",
       " 8512,\n",
       " 331,\n",
       " 332,\n",
       " 333,\n",
       " 334,\n",
       " 335,\n",
       " 8523,\n",
       " 8525,\n",
       " 338,\n",
       " 339,\n",
       " 340,\n",
       " 8526,\n",
       " 8527,\n",
       " 343,\n",
       " 344,\n",
       " 345,\n",
       " 346,\n",
       " 347,\n",
       " 348,\n",
       " 8538,\n",
       " 350,\n",
       " 8539,\n",
       " 352,\n",
       " 8541,\n",
       " 8545,\n",
       " 355,\n",
       " 356,\n",
       " 357,\n",
       " 358,\n",
       " 8549,\n",
       " 360,\n",
       " 8553,\n",
       " 8554,\n",
       " 361,\n",
       " 8550,\n",
       " 363,\n",
       " 364,\n",
       " 365,\n",
       " 366,\n",
       " 367,\n",
       " 369,\n",
       " 370,\n",
       " 371,\n",
       " 8557,\n",
       " 373,\n",
       " 374,\n",
       " 375,\n",
       " 376,\n",
       " 377,\n",
       " 378,\n",
       " 379,\n",
       " 380,\n",
       " 8567,\n",
       " 8568,\n",
       " 8569,\n",
       " 8571,\n",
       " 386,\n",
       " 387,\n",
       " 388,\n",
       " 8581,\n",
       " 8582,\n",
       " 391,\n",
       " 392,\n",
       " 393,\n",
       " 8583,\n",
       " 8587,\n",
       " 8588,\n",
       " 8589,\n",
       " 8590,\n",
       " 395,\n",
       " 396,\n",
       " 397,\n",
       " 8585,\n",
       " 400,\n",
       " 402,\n",
       " 403,\n",
       " 404,\n",
       " 405,\n",
       " 406,\n",
       " 407,\n",
       " 408,\n",
       " 409,\n",
       " 411,\n",
       " 412,\n",
       " 413,\n",
       " 414,\n",
       " 416,\n",
       " 417,\n",
       " 419,\n",
       " 420,\n",
       " 421,\n",
       " 422,\n",
       " 424,\n",
       " 425,\n",
       " 426,\n",
       " 427,\n",
       " 428,\n",
       " 429,\n",
       " 8618,\n",
       " 431,\n",
       " 8619,\n",
       " 434,\n",
       " 435,\n",
       " 436,\n",
       " 437,\n",
       " 438,\n",
       " 439,\n",
       " 440,\n",
       " 441,\n",
       " 442,\n",
       " 443,\n",
       " 444,\n",
       " 8633,\n",
       " 446,\n",
       " 447,\n",
       " 448,\n",
       " 449,\n",
       " 450,\n",
       " 451,\n",
       " 452,\n",
       " 453,\n",
       " 454,\n",
       " 455,\n",
       " 456,\n",
       " 8647,\n",
       " 8650,\n",
       " 459,\n",
       " 460,\n",
       " 461,\n",
       " 462,\n",
       " 8654,\n",
       " 466,\n",
       " 468,\n",
       " 469,\n",
       " 8660,\n",
       " 471,\n",
       " 472,\n",
       " 473,\n",
       " 474,\n",
       " 475,\n",
       " 8662,\n",
       " 477,\n",
       " 478,\n",
       " 8663,\n",
       " 8664,\n",
       " 481,\n",
       " 8675,\n",
       " 484,\n",
       " 485,\n",
       " 486,\n",
       " 8678,\n",
       " 488,\n",
       " 8679,\n",
       " 493,\n",
       " 8685,\n",
       " 496,\n",
       " 497,\n",
       " 498,\n",
       " 499,\n",
       " 500,\n",
       " 501,\n",
       " 502,\n",
       " 8689,\n",
       " 504,\n",
       " 505,\n",
       " 506,\n",
       " 507,\n",
       " 508,\n",
       " 509,\n",
       " 510,\n",
       " 511,\n",
       " 8695,\n",
       " 513,\n",
       " 514,\n",
       " 515,\n",
       " 516,\n",
       " 8700,\n",
       " 8701,\n",
       " 519,\n",
       " 8703,\n",
       " 521,\n",
       " 522,\n",
       " 8706,\n",
       " 8707,\n",
       " 8708,\n",
       " 526,\n",
       " 8710,\n",
       " 8711,\n",
       " 8712,\n",
       " 8713,\n",
       " 531,\n",
       " 8715,\n",
       " 8716,\n",
       " 8717,\n",
       " 535,\n",
       " 8720,\n",
       " 8721,\n",
       " 8722,\n",
       " 539,\n",
       " 540,\n",
       " 8724,\n",
       " 8725,\n",
       " 543,\n",
       " 544,\n",
       " 545,\n",
       " 546,\n",
       " 547,\n",
       " 548,\n",
       " 8732,\n",
       " 550,\n",
       " 551,\n",
       " 8735,\n",
       " 8736,\n",
       " 8737,\n",
       " 555,\n",
       " 556,\n",
       " 8740,\n",
       " 558,\n",
       " 559,\n",
       " 560,\n",
       " 561,\n",
       " 8746,\n",
       " 8747,\n",
       " 564,\n",
       " 565,\n",
       " 566,\n",
       " 8751,\n",
       " 568,\n",
       " 569,\n",
       " 570,\n",
       " 8754,\n",
       " 572,\n",
       " 573,\n",
       " 574,\n",
       " 8759,\n",
       " 8760,\n",
       " 8761,\n",
       " 578,\n",
       " 8762,\n",
       " 580,\n",
       " 581,\n",
       " 8765,\n",
       " 8766,\n",
       " 8767,\n",
       " 585,\n",
       " 586,\n",
       " 8770,\n",
       " 588,\n",
       " 589,\n",
       " 590,\n",
       " 8774,\n",
       " 592,\n",
       " 593,\n",
       " 8777,\n",
       " 595,\n",
       " 597,\n",
       " 598,\n",
       " 599,\n",
       " 602,\n",
       " 8261,\n",
       " 605,\n",
       " 607,\n",
       " 609,\n",
       " 610,\n",
       " 611,\n",
       " 8262,\n",
       " 613,\n",
       " 8263,\n",
       " 616,\n",
       " 617,\n",
       " 8264,\n",
       " 622,\n",
       " 623,\n",
       " 8265,\n",
       " 625,\n",
       " 626,\n",
       " 627,\n",
       " 629,\n",
       " 632,\n",
       " 8267,\n",
       " 635,\n",
       " 637,\n",
       " 638,\n",
       " 639,\n",
       " 8268,\n",
       " 643,\n",
       " 644,\n",
       " 645,\n",
       " 8269,\n",
       " 647,\n",
       " 8270,\n",
       " 650,\n",
       " 651,\n",
       " 652,\n",
       " 653,\n",
       " 8272,\n",
       " 660,\n",
       " 662,\n",
       " 8273,\n",
       " 666,\n",
       " 667,\n",
       " 668,\n",
       " 669,\n",
       " 8274,\n",
       " 671,\n",
       " 672,\n",
       " 673,\n",
       " 674,\n",
       " 8275,\n",
       " 676,\n",
       " 8276,\n",
       " 682,\n",
       " 683,\n",
       " 684,\n",
       " 687,\n",
       " 688,\n",
       " 8278,\n",
       " 690,\n",
       " 8279,\n",
       " 696,\n",
       " 697,\n",
       " 698,\n",
       " 8280,\n",
       " 700,\n",
       " 701,\n",
       " 703,\n",
       " 704,\n",
       " 705,\n",
       " 706,\n",
       " 8281,\n",
       " 709,\n",
       " 8282,\n",
       " 711,\n",
       " 712,\n",
       " 713,\n",
       " 8283,\n",
       " 715,\n",
       " 717,\n",
       " 718,\n",
       " 719,\n",
       " 720,\n",
       " 722,\n",
       " 723,\n",
       " 724,\n",
       " 727,\n",
       " 734,\n",
       " 735,\n",
       " 745,\n",
       " 8289,\n",
       " 8290,\n",
       " 751,\n",
       " 8291,\n",
       " 769,\n",
       " 8294,\n",
       " 772,\n",
       " 779,\n",
       " 8296,\n",
       " 781,\n",
       " 8297,\n",
       " 8298,\n",
       " 8299,\n",
       " 796,\n",
       " 8301,\n",
       " 808,\n",
       " 810,\n",
       " 811,\n",
       " 812,\n",
       " 815,\n",
       " 816,\n",
       " 817,\n",
       " 818,\n",
       " 820,\n",
       " 822,\n",
       " 823,\n",
       " 824,\n",
       " 828,\n",
       " 831,\n",
       " 834,\n",
       " 836,\n",
       " 840,\n",
       " 846,\n",
       " 852,\n",
       " 856,\n",
       " 859,\n",
       " 860,\n",
       " 861,\n",
       " 863,\n",
       " 864,\n",
       " 865,\n",
       " 866,\n",
       " 867,\n",
       " 871,\n",
       " 872,\n",
       " 873,\n",
       " 874,\n",
       " 875,\n",
       " 880,\n",
       " 881,\n",
       " 883,\n",
       " 888,\n",
       " 894,\n",
       " 902,\n",
       " 904,\n",
       " 912,\n",
       " 914,\n",
       " 915,\n",
       " 916,\n",
       " 917,\n",
       " 918,\n",
       " 919,\n",
       " 921,\n",
       " 922,\n",
       " 925,\n",
       " 929,\n",
       " 930,\n",
       " 931,\n",
       " 932,\n",
       " 934,\n",
       " 935,\n",
       " 936,\n",
       " 937,\n",
       " 938,\n",
       " 939,\n",
       " 946,\n",
       " 947,\n",
       " 948,\n",
       " 949,\n",
       " 950,\n",
       " 951,\n",
       " 952,\n",
       " 953,\n",
       " 954,\n",
       " 955,\n",
       " 957,\n",
       " 958,\n",
       " 959,\n",
       " 8334,\n",
       " 983,\n",
       " 984,\n",
       " 1005,\n",
       " 1007,\n",
       " 1010,\n",
       " 1012,\n",
       " 1023,\n",
       " 1028,\n",
       " 1034,\n",
       " 1040,\n",
       " 1050,\n",
       " 1065,\n",
       " 1090,\n",
       " 1117,\n",
       " 1119,\n",
       " 1120,\n",
       " 1121,\n",
       " 1122,\n",
       " 1124,\n",
       " 1127,\n",
       " 1128,\n",
       " 1129,\n",
       " 1130,\n",
       " 1132,\n",
       " 1133,\n",
       " 1135,\n",
       " 1136,\n",
       " 1139,\n",
       " 1140,\n",
       " 1141,\n",
       " 1142,\n",
       " 1143,\n",
       " 1144,\n",
       " 1148,\n",
       " 1151,\n",
       " 1152,\n",
       " 1153,\n",
       " 1154,\n",
       " 1155,\n",
       " 1156,\n",
       " 1157,\n",
       " 1158,\n",
       " 1159,\n",
       " 1161,\n",
       " 1162,\n",
       " 1166,\n",
       " 1168,\n",
       " 1171,\n",
       " 1172,\n",
       " 1173,\n",
       " 1174,\n",
       " 1177,\n",
       " 1181,\n",
       " 1191,\n",
       " 1193,\n",
       " 1194,\n",
       " 1195,\n",
       " 1197,\n",
       " 1198,\n",
       " 1200,\n",
       " 1201,\n",
       " 1202,\n",
       " 1203,\n",
       " 1204,\n",
       " 1206,\n",
       " 1209,\n",
       " 1211,\n",
       " 1212,\n",
       " 1213,\n",
       " 1214,\n",
       " 1216,\n",
       " 1217,\n",
       " 1218,\n",
       " 1221,\n",
       " 1225,\n",
       " 1230,\n",
       " 1232,\n",
       " 1233,\n",
       " 1237,\n",
       " 1238,\n",
       " 1239,\n",
       " 1240,\n",
       " 1241,\n",
       " 1243,\n",
       " 1245,\n",
       " 1246,\n",
       " 1247,\n",
       " 1248,\n",
       " 1249,\n",
       " 1251,\n",
       " 1252,\n",
       " 1253,\n",
       " 1254,\n",
       " 1255,\n",
       " 1256,\n",
       " 1257,\n",
       " 1258,\n",
       " 1259,\n",
       " 1260,\n",
       " 1261,\n",
       " 1262,\n",
       " 1263,\n",
       " 1264,\n",
       " 1265,\n",
       " 1266,\n",
       " 1270,\n",
       " 1271,\n",
       " 1272,\n",
       " 1276,\n",
       " 1279,\n",
       " 1280,\n",
       " 1281,\n",
       " 1282,\n",
       " 1283,\n",
       " 1286,\n",
       " 1287,\n",
       " 1288,\n",
       " 1289,\n",
       " 1290,\n",
       " 1292,\n",
       " 1293,\n",
       " 1295,\n",
       " 1297,\n",
       " 1298,\n",
       " 1299,\n",
       " 1301,\n",
       " 1302,\n",
       " 1303,\n",
       " 1304,\n",
       " 1305,\n",
       " 1306,\n",
       " 1307,\n",
       " 1308,\n",
       " 1309,\n",
       " 1310,\n",
       " 1311,\n",
       " 1312,\n",
       " 1313,\n",
       " 1314,\n",
       " 1316,\n",
       " 1317,\n",
       " 1318,\n",
       " 1319,\n",
       " 1320,\n",
       " 1325,\n",
       " 1329,\n",
       " 1331,\n",
       " 1334,\n",
       " 1337,\n",
       " 1348,\n",
       " 1351,\n",
       " 1354,\n",
       " 1355,\n",
       " 1357,\n",
       " 1363,\n",
       " 1364,\n",
       " 1366,\n",
       " 1368,\n",
       " 1369,\n",
       " 1371,\n",
       " 1372,\n",
       " 1373,\n",
       " 1374,\n",
       " 1379,\n",
       " 1380,\n",
       " 1381,\n",
       " 1382,\n",
       " 1383,\n",
       " 1384,\n",
       " 1385,\n",
       " 1386,\n",
       " 1398,\n",
       " 1405,\n",
       " 1406,\n",
       " 1410,\n",
       " 1411,\n",
       " 1412,\n",
       " 1416,\n",
       " 1419,\n",
       " 1421,\n",
       " 1422,\n",
       " 1423,\n",
       " 1425,\n",
       " 1427,\n",
       " 1428,\n",
       " 1429,\n",
       " 1432,\n",
       " 1434,\n",
       " 1435,\n",
       " 1440,\n",
       " 1442,\n",
       " 1451,\n",
       " 1455,\n",
       " 1456,\n",
       " 1457,\n",
       " 1458,\n",
       " 1459,\n",
       " 1460,\n",
       " 1461,\n",
       " 1462,\n",
       " 1463,\n",
       " 1464,\n",
       " 1465,\n",
       " 1466,\n",
       " 1467,\n",
       " 1468,\n",
       " 1469,\n",
       " 1470,\n",
       " 1471,\n",
       " 1473,\n",
       " 1474,\n",
       " 1479,\n",
       " 8437,\n",
       " 8438,\n",
       " 8439,\n",
       " 8440,\n",
       " 8441,\n",
       " 1514,\n",
       " 8442,\n",
       " 8446,\n",
       " 1548,\n",
       " 8449,\n",
       " 1551,\n",
       " 1552,\n",
       " 8450,\n",
       " 1556,\n",
       " 8451,\n",
       " 8452,\n",
       " 8453,\n",
       " 8454,\n",
       " 1578,\n",
       " 1585,\n",
       " 8456,\n",
       " 1587,\n",
       " 1599,\n",
       " 1603,\n",
       " 8461,\n",
       " 1620,\n",
       " 8465,\n",
       " 1635,\n",
       " 8466,\n",
       " 8467,\n",
       " 1645,\n",
       " 1646,\n",
       " 8468,\n",
       " 1649,\n",
       " 1650,\n",
       " 8469,\n",
       " 1658,\n",
       " 8471,\n",
       " 1663,\n",
       " 1664,\n",
       " 8472,\n",
       " 1665,\n",
       " 1666,\n",
       " 1667,\n",
       " 1668,\n",
       " 1669,\n",
       " 1670,\n",
       " 1671,\n",
       " 1672,\n",
       " 1673,\n",
       " 1674,\n",
       " 8473,\n",
       " 1676,\n",
       " 1677,\n",
       " 1678,\n",
       " 8475,\n",
       " 1681,\n",
       " 1682,\n",
       " 1684,\n",
       " 8476,\n",
       " 1687,\n",
       " 8477,\n",
       " 1692,\n",
       " 1693,\n",
       " 8478,\n",
       " 1705,\n",
       " 1706,\n",
       " 1707,\n",
       " 1708,\n",
       " 1709,\n",
       " 1711,\n",
       " 1716,\n",
       " 1718,\n",
       " 1719,\n",
       " 1726,\n",
       " 1727,\n",
       " 1728,\n",
       " 1729,\n",
       " 1730,\n",
       " 1732,\n",
       " 1733,\n",
       " 1734,\n",
       " 1736,\n",
       " 8486,\n",
       " 1738,\n",
       " ...}"
      ]
     },
     "execution_count": 92,
     "metadata": {},
     "output_type": "execute_result"
    }
   ],
   "source": [
    "set(corrects).intersection(set(bads))"
   ]
  },
  {
   "cell_type": "code",
   "execution_count": 84,
   "metadata": {},
   "outputs": [
    {
     "data": {
      "text/plain": [
       "[16, 54, 141, 692, 721]"
      ]
     },
     "execution_count": 84,
     "metadata": {},
     "output_type": "execute_result"
    }
   ],
   "source": [
    "corrects[:5]"
   ]
  },
  {
   "cell_type": "code",
   "execution_count": 85,
   "metadata": {},
   "outputs": [
    {
     "data": {
      "text/plain": [
       "[33, 44, 49, 50, 53]"
      ]
     },
     "execution_count": 85,
     "metadata": {},
     "output_type": "execute_result"
    }
   ],
   "source": [
    "bads[:5]"
   ]
  },
  {
   "cell_type": "code",
   "execution_count": 51,
   "metadata": {},
   "outputs": [
    {
     "data": {
      "text/plain": [
       "2.0022056536182298"
      ]
     },
     "execution_count": 51,
     "metadata": {},
     "output_type": "execute_result"
    }
   ],
   "source": [
    "x.iloc[33]"
   ]
  },
  {
   "cell_type": "code",
   "execution_count": 40,
   "metadata": {},
   "outputs": [
    {
     "data": {
      "text/plain": [
       "0        0.258059\n",
       "1        0.284464\n",
       "2        0.316711\n",
       "3        0.310250\n",
       "4        0.300478\n",
       "          ...    \n",
       "8773     1.830085\n",
       "8774     2.450175\n",
       "8775     1.936221\n",
       "8776    22.511209\n",
       "8777          inf\n",
       "Length: 8778, dtype: float64"
      ]
     },
     "execution_count": 40,
     "metadata": {},
     "output_type": "execute_result"
    }
   ],
   "source": [
    "y"
   ]
  },
  {
   "cell_type": "code",
   "execution_count": null,
   "metadata": {},
   "outputs": [],
   "source": [
    "fig, ax = plt.subplots(figsize=(12,8))\n",
    "plt.title(f\"Comparing EI flavors — {run1} vs. {run2}\")\n",
    "plt.xlabel(f\"Dem Share of BVAP vote, {run1}\")\n",
    "plt.ylabel(f\"Dem Share of BVAP vote, {run2}\")\n",
    "x = df1[\"BDvotes\"] / df1[\"bvotes\"]\n",
    "y = df2[\"BDvotes\"] / df2[\"bvotes\"]\n",
    "ax.scatter(x, y)\n",
    "plt.show()"
   ]
  },
  {
   "cell_type": "code",
   "execution_count": 32,
   "metadata": {},
   "outputs": [
    {
     "data": {
      "image/png": "[encoded data removed]",
      "text/plain": [
       "<Figure size 864x576 with 1 Axes>"
      ]
     },
     "metadata": {
      "needs_background": "light"
     },
     "output_type": "display_data"
    }
   ],
   "source": [
    "compare_runs(\"scalePop_PPs_CVAP_one_phase_1\", \"scalePop_PPs_CVAP_one_phase_2\")"
   ]
  },
  {
   "cell_type": "markdown",
   "metadata": {},
   "source": [
    "something weird is going on with `noPPs` in two-phase"
   ]
  },
  {
   "cell_type": "code",
   "execution_count": 189,
   "metadata": {},
   "outputs": [
    {
     "data": {
      "image/png": "[encoded data removed]",
      "text/plain": [
       "<Figure size 864x576 with 1 Axes>"
      ]
     },
     "metadata": {
      "needs_background": "light"
     },
     "output_type": "display_data"
    }
   ],
   "source": [
    "compare_runs(\"buffer_PPs_VAP_two_phase_1\", \"buffer_PPs_VAP_two_phase_2\")"
   ]
  },
  {
   "cell_type": "code",
   "execution_count": 45,
   "metadata": {},
   "outputs": [],
   "source": [
    "df1 = pd.read_csv(\"../final_testing/buffer_noPPs_VAP_two_phase_1.csv\")\n",
    "df2 = pd.read_csv(\"../final_testing/buffer_noPPs_VAP_two_phase_2.csv\")"
   ]
  },
  {
   "cell_type": "code",
   "execution_count": 43,
   "metadata": {},
   "outputs": [
    {
     "data": {
      "text/html": [
       "<div>\n",
       "<style scoped>\n",
       "    .dataframe tbody tr th:only-of-type {\n",
       "        vertical-align: middle;\n",
       "    }\n",
       "\n",
       "    .dataframe tbody tr th {\n",
       "        vertical-align: top;\n",
       "    }\n",
       "\n",
       "    .dataframe thead th {\n",
       "        text-align: right;\n",
       "    }\n",
       "</style>\n",
       "<table border=\"1\" class=\"dataframe\">\n",
       "  <thead>\n",
       "    <tr style=\"text-align: right;\">\n",
       "      <th></th>\n",
       "      <th>CNTY_x</th>\n",
       "      <th>CNTYVTD</th>\n",
       "      <th>TOTPOP</th>\n",
       "      <th>BPOP</th>\n",
       "      <th>HPOP</th>\n",
       "      <th>CVAP_2012</th>\n",
       "      <th>BCVAP_2012</th>\n",
       "      <th>HCVAP_2012</th>\n",
       "      <th>Obama</th>\n",
       "      <th>Romney</th>\n",
       "      <th>bvotes</th>\n",
       "      <th>hvotes</th>\n",
       "      <th>ovotes</th>\n",
       "      <th>BRvotes</th>\n",
       "      <th>HRvotes</th>\n",
       "      <th>ORvotes</th>\n",
       "      <th>BDvotes</th>\n",
       "      <th>HDvotes</th>\n",
       "      <th>ODvotes</th>\n",
       "    </tr>\n",
       "  </thead>\n",
       "  <tbody>\n",
       "    <tr>\n",
       "      <th>0</th>\n",
       "      <td>1</td>\n",
       "      <td>10001</td>\n",
       "      <td>2341</td>\n",
       "      <td>368</td>\n",
       "      <td>217</td>\n",
       "      <td>1858</td>\n",
       "      <td>281</td>\n",
       "      <td>41</td>\n",
       "      <td>261</td>\n",
       "      <td>754</td>\n",
       "      <td>80.253003</td>\n",
       "      <td>53.301124</td>\n",
       "      <td>880.055309</td>\n",
       "      <td>19.670361</td>\n",
       "      <td>8.899702</td>\n",
       "      <td>745.065772</td>\n",
       "      <td>60.424104</td>\n",
       "      <td>44.234481</td>\n",
       "      <td>134.948952</td>\n",
       "    </tr>\n",
       "    <tr>\n",
       "      <th>1</th>\n",
       "      <td>1</td>\n",
       "      <td>10002</td>\n",
       "      <td>2732</td>\n",
       "      <td>188</td>\n",
       "      <td>135</td>\n",
       "      <td>2995</td>\n",
       "      <td>237</td>\n",
       "      <td>199</td>\n",
       "      <td>228</td>\n",
       "      <td>1179</td>\n",
       "      <td>43.583699</td>\n",
       "      <td>35.410383</td>\n",
       "      <td>1328.382184</td>\n",
       "      <td>42.478797</td>\n",
       "      <td>34.906264</td>\n",
       "      <td>938.014090</td>\n",
       "      <td>0.948339</td>\n",
       "      <td>0.394861</td>\n",
       "      <td>390.106488</td>\n",
       "    </tr>\n",
       "    <tr>\n",
       "      <th>2</th>\n",
       "      <td>1</td>\n",
       "      <td>10003</td>\n",
       "      <td>1345</td>\n",
       "      <td>92</td>\n",
       "      <td>96</td>\n",
       "      <td>1225</td>\n",
       "      <td>54</td>\n",
       "      <td>34</td>\n",
       "      <td>108</td>\n",
       "      <td>650</td>\n",
       "      <td>22.760832</td>\n",
       "      <td>25.510329</td>\n",
       "      <td>709.226283</td>\n",
       "      <td>19.818790</td>\n",
       "      <td>24.444078</td>\n",
       "      <td>566.670862</td>\n",
       "      <td>2.757550</td>\n",
       "      <td>0.919960</td>\n",
       "      <td>142.395214</td>\n",
       "    </tr>\n",
       "    <tr>\n",
       "      <th>3</th>\n",
       "      <td>1</td>\n",
       "      <td>10004</td>\n",
       "      <td>1684</td>\n",
       "      <td>52</td>\n",
       "      <td>47</td>\n",
       "      <td>1789</td>\n",
       "      <td>90</td>\n",
       "      <td>11</td>\n",
       "      <td>128</td>\n",
       "      <td>729</td>\n",
       "      <td>NaN</td>\n",
       "      <td>NaN</td>\n",
       "      <td>NaN</td>\n",
       "      <td>NaN</td>\n",
       "      <td>NaN</td>\n",
       "      <td>NaN</td>\n",
       "      <td>NaN</td>\n",
       "      <td>NaN</td>\n",
       "      <td>NaN</td>\n",
       "    </tr>\n",
       "    <tr>\n",
       "      <th>4</th>\n",
       "      <td>1</td>\n",
       "      <td>10005</td>\n",
       "      <td>366</td>\n",
       "      <td>3</td>\n",
       "      <td>12</td>\n",
       "      <td>356</td>\n",
       "      <td>0</td>\n",
       "      <td>4</td>\n",
       "      <td>13</td>\n",
       "      <td>174</td>\n",
       "      <td>NaN</td>\n",
       "      <td>NaN</td>\n",
       "      <td>NaN</td>\n",
       "      <td>NaN</td>\n",
       "      <td>NaN</td>\n",
       "      <td>NaN</td>\n",
       "      <td>NaN</td>\n",
       "      <td>NaN</td>\n",
       "      <td>NaN</td>\n",
       "    </tr>\n",
       "    <tr>\n",
       "      <th>...</th>\n",
       "      <td>...</td>\n",
       "      <td>...</td>\n",
       "      <td>...</td>\n",
       "      <td>...</td>\n",
       "      <td>...</td>\n",
       "      <td>...</td>\n",
       "      <td>...</td>\n",
       "      <td>...</td>\n",
       "      <td>...</td>\n",
       "      <td>...</td>\n",
       "      <td>...</td>\n",
       "      <td>...</td>\n",
       "      <td>...</td>\n",
       "      <td>...</td>\n",
       "      <td>...</td>\n",
       "      <td>...</td>\n",
       "      <td>...</td>\n",
       "      <td>...</td>\n",
       "      <td>...</td>\n",
       "    </tr>\n",
       "    <tr>\n",
       "      <th>8773</th>\n",
       "      <td>507</td>\n",
       "      <td>5070002</td>\n",
       "      <td>2124</td>\n",
       "      <td>7</td>\n",
       "      <td>2027</td>\n",
       "      <td>1792</td>\n",
       "      <td>0</td>\n",
       "      <td>1736</td>\n",
       "      <td>834</td>\n",
       "      <td>135</td>\n",
       "      <td>NaN</td>\n",
       "      <td>NaN</td>\n",
       "      <td>NaN</td>\n",
       "      <td>NaN</td>\n",
       "      <td>NaN</td>\n",
       "      <td>NaN</td>\n",
       "      <td>NaN</td>\n",
       "      <td>NaN</td>\n",
       "      <td>NaN</td>\n",
       "    </tr>\n",
       "    <tr>\n",
       "      <th>8774</th>\n",
       "      <td>507</td>\n",
       "      <td>5070003</td>\n",
       "      <td>2060</td>\n",
       "      <td>7</td>\n",
       "      <td>1988</td>\n",
       "      <td>2102</td>\n",
       "      <td>1</td>\n",
       "      <td>1993</td>\n",
       "      <td>890</td>\n",
       "      <td>76</td>\n",
       "      <td>NaN</td>\n",
       "      <td>NaN</td>\n",
       "      <td>NaN</td>\n",
       "      <td>NaN</td>\n",
       "      <td>NaN</td>\n",
       "      <td>NaN</td>\n",
       "      <td>NaN</td>\n",
       "      <td>NaN</td>\n",
       "      <td>NaN</td>\n",
       "    </tr>\n",
       "    <tr>\n",
       "      <th>8775</th>\n",
       "      <td>507</td>\n",
       "      <td>5070004</td>\n",
       "      <td>1256</td>\n",
       "      <td>4</td>\n",
       "      <td>1060</td>\n",
       "      <td>1240</td>\n",
       "      <td>1</td>\n",
       "      <td>980</td>\n",
       "      <td>413</td>\n",
       "      <td>166</td>\n",
       "      <td>2.004060</td>\n",
       "      <td>484.270038</td>\n",
       "      <td>92.812221</td>\n",
       "      <td>NaN</td>\n",
       "      <td>NaN</td>\n",
       "      <td>NaN</td>\n",
       "      <td>NaN</td>\n",
       "      <td>NaN</td>\n",
       "      <td>NaN</td>\n",
       "    </tr>\n",
       "    <tr>\n",
       "      <th>8776</th>\n",
       "      <td>507</td>\n",
       "      <td>507001A</td>\n",
       "      <td>1007</td>\n",
       "      <td>1</td>\n",
       "      <td>948</td>\n",
       "      <td>670</td>\n",
       "      <td>11</td>\n",
       "      <td>593</td>\n",
       "      <td>307</td>\n",
       "      <td>68</td>\n",
       "      <td>NaN</td>\n",
       "      <td>NaN</td>\n",
       "      <td>NaN</td>\n",
       "      <td>NaN</td>\n",
       "      <td>NaN</td>\n",
       "      <td>NaN</td>\n",
       "      <td>NaN</td>\n",
       "      <td>NaN</td>\n",
       "      <td>NaN</td>\n",
       "    </tr>\n",
       "    <tr>\n",
       "      <th>8777</th>\n",
       "      <td>507</td>\n",
       "      <td>507004A</td>\n",
       "      <td>729</td>\n",
       "      <td>0</td>\n",
       "      <td>690</td>\n",
       "      <td>501</td>\n",
       "      <td>6</td>\n",
       "      <td>463</td>\n",
       "      <td>325</td>\n",
       "      <td>55</td>\n",
       "      <td>0.000000</td>\n",
       "      <td>360.862784</td>\n",
       "      <td>19.033347</td>\n",
       "      <td>NaN</td>\n",
       "      <td>NaN</td>\n",
       "      <td>NaN</td>\n",
       "      <td>NaN</td>\n",
       "      <td>NaN</td>\n",
       "      <td>NaN</td>\n",
       "    </tr>\n",
       "  </tbody>\n",
       "</table>\n",
       "<p>8778 rows × 19 columns</p>\n",
       "</div>"
      ],
      "text/plain": [
       "      CNTY_x  CNTYVTD  TOTPOP  BPOP  HPOP  CVAP_2012  BCVAP_2012  HCVAP_2012  \\\n",
       "0          1    10001    2341   368   217       1858         281          41   \n",
       "1          1    10002    2732   188   135       2995         237         199   \n",
       "2          1    10003    1345    92    96       1225          54          34   \n",
       "3          1    10004    1684    52    47       1789          90          11   \n",
       "4          1    10005     366     3    12        356           0           4   \n",
       "...      ...      ...     ...   ...   ...        ...         ...         ...   \n",
       "8773     507  5070002    2124     7  2027       1792           0        1736   \n",
       "8774     507  5070003    2060     7  1988       2102           1        1993   \n",
       "8775     507  5070004    1256     4  1060       1240           1         980   \n",
       "8776     507  507001A    1007     1   948        670          11         593   \n",
       "8777     507  507004A     729     0   690        501           6         463   \n",
       "\n",
       "      Obama  Romney     bvotes      hvotes       ovotes    BRvotes    HRvotes  \\\n",
       "0       261     754  80.253003   53.301124   880.055309  19.670361   8.899702   \n",
       "1       228    1179  43.583699   35.410383  1328.382184  42.478797  34.906264   \n",
       "2       108     650  22.760832   25.510329   709.226283  19.818790  24.444078   \n",
       "3       128     729        NaN         NaN          NaN        NaN        NaN   \n",
       "4        13     174        NaN         NaN          NaN        NaN        NaN   \n",
       "...     ...     ...        ...         ...          ...        ...        ...   \n",
       "8773    834     135        NaN         NaN          NaN        NaN        NaN   \n",
       "8774    890      76        NaN         NaN          NaN        NaN        NaN   \n",
       "8775    413     166   2.004060  484.270038    92.812221        NaN        NaN   \n",
       "8776    307      68        NaN         NaN          NaN        NaN        NaN   \n",
       "8777    325      55   0.000000  360.862784    19.033347        NaN        NaN   \n",
       "\n",
       "         ORvotes    BDvotes    HDvotes     ODvotes  \n",
       "0     745.065772  60.424104  44.234481  134.948952  \n",
       "1     938.014090   0.948339   0.394861  390.106488  \n",
       "2     566.670862   2.757550   0.919960  142.395214  \n",
       "3            NaN        NaN        NaN         NaN  \n",
       "4            NaN        NaN        NaN         NaN  \n",
       "...          ...        ...        ...         ...  \n",
       "8773         NaN        NaN        NaN         NaN  \n",
       "8774         NaN        NaN        NaN         NaN  \n",
       "8775         NaN        NaN        NaN         NaN  \n",
       "8776         NaN        NaN        NaN         NaN  \n",
       "8777         NaN        NaN        NaN         NaN  \n",
       "\n",
       "[8778 rows x 19 columns]"
      ]
     },
     "execution_count": 43,
     "metadata": {},
     "output_type": "execute_result"
    }
   ],
   "source": [
    "df1"
   ]
  },
  {
   "cell_type": "code",
   "execution_count": 44,
   "metadata": {},
   "outputs": [
    {
     "data": {
      "text/plain": [
       "CNTY_x           0\n",
       "CNTYVTD          0\n",
       "TOTPOP           0\n",
       "BPOP             0\n",
       "HPOP             0\n",
       "CVAP_2012        0\n",
       "BCVAP_2012       0\n",
       "HCVAP_2012       0\n",
       "Obama            0\n",
       "Romney           0\n",
       "bvotes        3304\n",
       "hvotes        3304\n",
       "ovotes        3304\n",
       "BRvotes       5267\n",
       "HRvotes       5267\n",
       "ORvotes       5267\n",
       "BDvotes       5267\n",
       "HDvotes       5267\n",
       "ODvotes       5267\n",
       "dtype: int64"
      ]
     },
     "execution_count": 44,
     "metadata": {},
     "output_type": "execute_result"
    }
   ],
   "source": [
    "df1.isna().sum()"
   ]
  },
  {
   "cell_type": "code",
   "execution_count": 46,
   "metadata": {},
   "outputs": [
    {
     "data": {
      "text/plain": [
       "CNTY_x           0\n",
       "CNTYVTD          0\n",
       "TOTPOP           0\n",
       "BPOP             0\n",
       "HPOP             0\n",
       "CVAP_2012        0\n",
       "BCVAP_2012       0\n",
       "HCVAP_2012       0\n",
       "Obama            0\n",
       "Romney           0\n",
       "bvotes        3352\n",
       "hvotes        3352\n",
       "ovotes        3352\n",
       "BRvotes       5368\n",
       "HRvotes       5368\n",
       "ORvotes       5368\n",
       "BDvotes       5368\n",
       "HDvotes       5368\n",
       "ODvotes       5368\n",
       "dtype: int64"
      ]
     },
     "execution_count": 46,
     "metadata": {},
     "output_type": "execute_result"
    }
   ],
   "source": [
    "df2.isna().sum()"
   ]
  },
  {
   "cell_type": "code",
   "execution_count": null,
   "metadata": {},
   "outputs": [],
   "source": []
  }
 ],
 "metadata": {
  "kernelspec": {
   "display_name": "Python 3",
   "language": "python",
   "name": "python3"
  },
  "language_info": {
   "codemirror_mode": {
    "name": "ipython",
    "version": 3
   },
   "file_extension": ".py",
   "mimetype": "text/x-python",
   "name": "python",
   "nbconvert_exporter": "python",
   "pygments_lexer": "ipython3",
   "version": "3.8.5"
  }
 },
 "nbformat": 4,
 "nbformat_minor": 4
}
