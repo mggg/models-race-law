{
 "cells": [
  {
   "cell_type": "code",
   "execution_count": 1,
   "metadata": {},
   "outputs": [],
   "source": [
    "from gerrychain import Graph, Partition\n",
    "import geopandas as gpd\n",
    "from locality_split_scores import *"
   ]
  },
  {
   "cell_type": "markdown",
   "metadata": {},
   "source": [
    "## pieces of counties"
   ]
  },
  {
   "cell_type": "markdown",
   "metadata": {},
   "source": [
    "We will use the TX VTDs shapefile that was used in the VRA paper, [here](https://www.dropbox.com/sh/k78n2hyixmv9xdg/AABmZG5ntMbXtX1VKThR7_t8a?dl=0)."
   ]
  },
  {
   "cell_type": "code",
   "execution_count": 3,
   "metadata": {
    "collapsed": true,
    "jupyter": {
     "outputs_hidden": true
    }
   },
   "outputs": [
    {
     "name": "stderr",
     "output_type": "stream",
     "text": [
      "/Users/gabe/Desktop/mggg/GerryChain/gerrychain/graph/adjacency.py:66: UserWarning: Found overlaps among the given polygons. Indices of overlaps: {(1165, 1170), (7889, 8135), (603, 762), (638, 695), (6531, 6548), (6573, 6618), (7539, 7582), (763, 1812), (3500, 3510), (499, 735), (6519, 6537), (5970, 8790), (628, 629), (3871, 3886), (5974, 8790), (1159, 1168), (2981, 8790), (1806, 3877), (1114, 1154), (612, 733), (445, 446), (873, 982), (605, 639), (3496, 3505), (1663, 1686), (824, 860), (1163, 1165), (2930, 2938), (657, 658), (904, 978), (1478, 1479), (2801, 2818), (6551, 6580), (1478, 1488), (1577, 1683), (2875, 2904), (2811, 2813), (2805, 2827), (1661, 1728), (2876, 2878), (5414, 6142), (8780, 8792), (656, 714), (7457, 7526), (3505, 3510), (324, 387), (1761, 1769), (1636, 1671), (322, 344), (2984, 8790), (4608, 6563), (2817, 2828), (6539, 6608), (6591, 6609), (2778, 2818), (3544, 3550), (8743, 8748), (572, 5833), (595, 758), (362, 6405), (1113, 1175), (1637, 1663), (343, 348), (1113, 1184), (6393, 8790), (6540, 6591), (873, 977), (314, 348), (314, 467), (3818, 3844), (1636, 1655), (7457, 7519), (2931, 2953), (1118, 1137), (6531, 6618), (875, 1806), (2780, 2781), (7860, 7936), (1577, 2807), (8879, 8882), (354, 362), (661, 751), (7889, 7942), (454, 483), (1786, 1791), (3473, 3510), (1788, 3347), (659, 708), (837, 885), (1806, 3874), (6180, 6186), (1116, 1148), (266, 322), (7512, 7601), (2807, 2828), (1571, 2842), (591, 637), (6519, 6582), (1810, 1812), (1592, 1696), (3475, 3510), (978, 979), (6541, 6591), (6142, 6177), (6531, 6620), (864, 878), (3501, 3510), (6563, 6606), (8937, 8938), (143, 5867), (732, 749), (1788, 3349), (665, 1806), (1805, 1806), (2810, 2811), (6118, 6213), (2799, 2872), (2859, 2868), (605, 757), (606, 637), (911, 919), (4562, 6563), (1148, 1167), (143, 5833), (251, 354), (904, 977), (2800, 2818), (2777, 2801), (1577, 1682), (1794, 1808), (127, 1788), (1477, 1488), (1551, 1556), (1678, 1752), (7504, 7512), (1141, 1154), (6554, 6580), (1481, 1488), (2875, 2933), (6591, 6608), (1551, 1647), (8743, 8747), (3493, 3510), (695, 725), (1803, 1804), (1673, 1676), (2929, 2931), (639, 681), (6402, 6403), (442, 481), (354, 389), (629, 725), (822, 976), (1683, 1769), (628, 735), (6114, 6213), (6153, 6174), (145, 6402), (3499, 3510), (6142, 6192), (2801, 2821), (6519, 6536), (8879, 8881), (1769, 1774), (6165, 6166), (3818, 3827), (6165, 6175), (824, 829), (885, 934), (873, 978), (1138, 1153), (7526, 7601), (6177, 6189), (758, 5835), (6836, 7249), (863, 878), (1789, 1791), (3877, 3888), (6519, 6538), (1798, 1803), (569, 733), (746, 1806), (6405, 6406), (6563, 6605), (867, 1806), (1788, 3348), (616, 5833), (1647, 1661), (2831, 2842), (3497, 3505), (6165, 6177), (603, 683), (1488, 4386), (1577, 2829), (3495, 3505), (251, 344), (1118, 1186), (6552, 6580), (6137, 6191), (1145, 1151), (8745, 8754), (730, 735), (909, 911), (3502, 3510), (8951, 8956), (6137, 6209), (5426, 6142), (7981, 8074), (1154, 1181), (2848, 2851), (6118, 6150), (3506, 3510), (7469, 7526), (1476, 1479), (7526, 7633), (1118, 1170), (8786, 8791), (6563, 6564), (7519, 7582), (436, 437), (1675, 1728), (659, 1815), (1113, 1146), (1138, 3802), (6519, 6524), (1805, 3878), (2875, 2932), (3875, 3886), (1138, 3811), (8745, 8756), (1590, 1604), (824, 826), (1112, 1113), (1154, 1183), (2806, 2817), (1674, 1683), (3870, 3871), (6553, 6580), (2929, 2933), (7936, 7970), (1682, 1769), (325, 6405), (354, 388), (2821, 2826), (581, 769), (6555, 6580), (1639, 2829), (847, 977), (734, 746), (7914, 7936), (6531, 6619), (8756, 8767), (746, 1812), (1695, 1769), (1118, 1156), (2780, 2800), (1577, 2826), (3498, 3510), (1791, 3347), (863, 969)}\n",
      "  warnings.warn(\n",
      "/Users/gabe/Desktop/mggg/GerryChain/gerrychain/graph/graph.py:162: UserWarning: Geometry is in a geographic CRS. Results from 'area' are likely incorrect. Use 'GeoSeries.to_crs()' to re-project geometries to a projected CRS before this operation.\n",
      "\n",
      "  areas = df.geometry.area.to_dict()\n"
     ]
    },
    {
     "name": "stdout",
     "output_type": "stream",
     "text": [
      "CPU times: user 1min 55s, sys: 3.15 s, total: 1min 58s\n",
      "Wall time: 1min 58s\n"
     ]
    }
   ],
   "source": [
    "%%time\n",
    "g = Graph.from_file(\"TX_VTDs/TX_VTDs.shp\") # this may take a couple minutes"
   ]
  },
  {
   "cell_type": "code",
   "execution_count": 3,
   "metadata": {
    "collapsed": true,
    "jupyter": {
     "outputs_hidden": true
    }
   },
   "outputs": [
    {
     "data": {
      "text/plain": [
       "{'boundary_node': False,\n",
       " 'area': 0.0005367553233252686,\n",
       " 'CNTY_x': 1,\n",
       " 'COLOR_x': 6,\n",
       " 'VTD_x': '0001',\n",
       " 'CNTYVTD': '10001',\n",
       " 'VTDKEY_x': 1,\n",
       " 'Shape_area': 5616315.63811,\n",
       " 'Shape_len_': 15020.5442123,\n",
       " 'Unnamed_ 0': 0,\n",
       " 'TOTPOP_x': 3131.0,\n",
       " 'NH_WHITE': 2053.0,\n",
       " 'NH_BLACK': 560.0,\n",
       " 'NH_AMIN': 12.0,\n",
       " 'NH_ASIAN': 54.0,\n",
       " 'NH_NHPI': 1.0,\n",
       " 'NH_OTHER': 3.0,\n",
       " 'NH_2MORE': 47.0,\n",
       " 'HISP': 401.0,\n",
       " 'H_WHITE': 193.0,\n",
       " 'H_BLACK': 6.0,\n",
       " 'H_AMIN': 14.0,\n",
       " 'H_ASIAN': 0.0,\n",
       " 'H_NHPI': 0.0,\n",
       " 'H_OTHER': 160.0,\n",
       " 'H_2MORE': 28.0,\n",
       " 'VAP': 2341.0,\n",
       " 'HVAP': 217.0,\n",
       " 'WVAP': 1677.0,\n",
       " 'BVAP': 368.0,\n",
       " 'AMINVAP': 11.0,\n",
       " 'ASIANVAP': 45.0,\n",
       " 'NHPIVAP': 1.0,\n",
       " 'OTHERVAP': 3.0,\n",
       " '2MOREVAP': 19.0,\n",
       " 'white_prop': 0.716360529688167,\n",
       " 'black_prop': 0.15719777872704,\n",
       " 'hisp_prop': 0.092695429303716,\n",
       " 'CD': '4',\n",
       " 'Unnamed__1': 0,\n",
       " 'RomneyR_12': 754,\n",
       " 'ObamaD_12G': 261,\n",
       " 'JohnsonL_1': 10,\n",
       " 'SteinG_12G': 1,\n",
       " 'Write-In _': 0,\n",
       " 'CruzR_12G_': 713,\n",
       " 'SadlerD_12': 285,\n",
       " 'MyersL_12G': 13,\n",
       " 'CollinsG_1': 8,\n",
       " 'AllenD_12P': 0,\n",
       " 'HubbardD_1': 4,\n",
       " 'SadlerD__1': 17,\n",
       " 'YarbroughD': 3,\n",
       " 'BachmannR_': 1,\n",
       " 'DavisR_12P': 2,\n",
       " 'GingrichR_': 25,\n",
       " 'HuntsmanR_': 0,\n",
       " 'PaulR_12P_': 44,\n",
       " 'RoemerR_12': 1,\n",
       " 'RomneyR__1': 222,\n",
       " 'SantorumR_': 20,\n",
       " 'Uncommitte': 13,\n",
       " 'AddisonR_1': 2,\n",
       " 'AgrisR_12P': 0,\n",
       " 'CleaverR_1': 1,\n",
       " 'CruzR_12P_': 82,\n",
       " 'DewhurstR_': 170,\n",
       " 'GambiniR_1': 0,\n",
       " 'JamesR_12P': 20,\n",
       " 'LeppertR_1': 44,\n",
       " 'PittengerR': 1,\n",
       " 'SadlerD__2': 6,\n",
       " 'Yarbroug_1': 3,\n",
       " 'CruzR_12R_': 45,\n",
       " 'Dewhurst_1': 39,\n",
       " 'MillerR_14': 412,\n",
       " 'HoganD_14G': 133,\n",
       " 'PalmquistL': 15,\n",
       " 'KendrickG_': 7,\n",
       " 'PaxtonR_14': 426,\n",
       " 'HoustonD_1': 128,\n",
       " 'BalagiaL_1': 15,\n",
       " 'OsborneG_1': 3,\n",
       " 'HegarR_14G': 417,\n",
       " 'CollierD_1': 130,\n",
       " 'SandersL_1': 16,\n",
       " 'ShaftoG_14': 5,\n",
       " 'AbbottR_14': 424,\n",
       " 'DavisD_14G': 130,\n",
       " 'GlassL_14G': 15,\n",
       " 'ParmerG_14': 5,\n",
       " 'PavittW_14': 2,\n",
       " 'BushR_14G_': 424,\n",
       " 'CookD_14G_': 126,\n",
       " 'KnightL_14': 18,\n",
       " 'AlessiG_14': 6,\n",
       " 'PatrickR_1': 419,\n",
       " 'Van De Put': 130,\n",
       " 'ButlerL_14': 19,\n",
       " 'CourtneyG_': 4,\n",
       " 'CornynR_14': 441,\n",
       " 'AlameelD_1': 110,\n",
       " 'PaddockL_1': 12,\n",
       " 'SanchezG_1': 7,\n",
       " 'TahiroW_14': 0,\n",
       " 'Fitzsimons': 7,\n",
       " 'HoganD_14P': 14,\n",
       " 'FriedmanD_': 12,\n",
       " 'HoustonD_2': 30,\n",
       " 'CollierD_2': 31,\n",
       " 'MadrigalD_': 1,\n",
       " 'DavisD_14P': 36,\n",
       " 'CookD_14P_': 31,\n",
       " 'Van De P_1': 29,\n",
       " 'AlameelD_2': 10,\n",
       " 'KimD_14P_U': 2,\n",
       " 'RogersD_14': 13,\n",
       " 'ScherrD_14': 5,\n",
       " 'FjetlandD_': 1,\n",
       " 'OpielaR_14': 67,\n",
       " 'CarnesR_14': 29,\n",
       " 'CottenR_14': 76,\n",
       " 'MillerR__1': 85,\n",
       " 'MerrittR_1': 116,\n",
       " 'Smitherman': 79,\n",
       " 'BranchR_14': 156,\n",
       " 'PaxtonR__1': 156,\n",
       " 'MedinaR_14': 110,\n",
       " 'HegarR_14P': 165,\n",
       " 'Hilderbran': 64,\n",
       " 'TorresR_14': 37,\n",
       " 'AbbottR__1': 366,\n",
       " 'FritschR_1': 19,\n",
       " 'MartinezR_': 16,\n",
       " 'KilgoreR_1': 7,\n",
       " 'WattsR_14P': 120,\n",
       " 'BushR_14P_': 278,\n",
       " 'PatrickR_2': 52,\n",
       " 'Dewhurst_2': 40,\n",
       " 'PattersonR': 21,\n",
       " 'StaplesR_1': 322,\n",
       " 'MappR_14P_': 9,\n",
       " 'CleaverR_2': 7,\n",
       " 'StovallR_1': 36,\n",
       " 'CornynR__1': 261,\n",
       " 'CopeR_14P_': 15,\n",
       " 'VegaR_14P_': 29,\n",
       " 'ReasorR_14': 3,\n",
       " 'StockmanR_': 41,\n",
       " 'Friedman_1': 4,\n",
       " 'HoganD_14R': 6,\n",
       " 'AlameelD_3': 7,\n",
       " 'RogersD__1': 3,\n",
       " 'MerrittR_2': 47,\n",
       " 'MillerR__2': 60,\n",
       " 'BranchR__1': 29,\n",
       " 'PaxtonR__2': 75,\n",
       " 'Dewhurst_3': 29,\n",
       " 'PatrickR_3': 74,\n",
       " 'ClintonD_1': 262,\n",
       " 'TrumpR_16G': 742,\n",
       " 'JohnsonL_2': 18,\n",
       " 'SteinG_16G': 5,\n",
       " 'Write-InW_': 3,\n",
       " 'JuddD_16P_': 0,\n",
       " 'De La Fuen': 0,\n",
       " 'ClintonD_2': 54,\n",
       " 'LockeD_16P': 0,\n",
       " \"O'MalleyD_\": 0,\n",
       " 'SandersD_1': 20,\n",
       " 'WIlsonD_16': 0,\n",
       " 'HawesD_16P': 0,\n",
       " 'TrumpR_16P': 143,\n",
       " 'KasichR_16': 16,\n",
       " 'GrahamR_16': 0,\n",
       " 'BushR_16P_': 10,\n",
       " 'ChristieR_': 0,\n",
       " 'FiorinaR_1': 0,\n",
       " 'Santorum_1': 1,\n",
       " 'RubioR_16P': 72,\n",
       " 'PaulR_16P_': 3,\n",
       " 'CarsonR_16': 23,\n",
       " 'HuckabeeR_': 4,\n",
       " 'CruzR_16P_': 258,\n",
       " 'GrayR_16P_': 0,\n",
       " 'Uncommit_1': 5,\n",
       " 'MillerR_18': 653,\n",
       " 'OlsonD_18G': 236,\n",
       " 'CarpenterL': 16,\n",
       " 'PaxtonR_18': 637,\n",
       " 'NelsonD_18': 252,\n",
       " 'HarrisL_18': 19,\n",
       " 'HegarR_18G': 656,\n",
       " 'ChevalierD': 221,\n",
       " 'SandersL_2': 28,\n",
       " 'AbbottR_18': 699,\n",
       " 'ValdezD_18': 214,\n",
       " 'TippettsL_': 11,\n",
       " 'BushR_18G_': 660,\n",
       " 'SuazoD_18G': 216,\n",
       " 'PinaL_18G_': 34,\n",
       " 'PatrickR_4': 634,\n",
       " 'CollierD_3': 260,\n",
       " 'McKennonL_': 26,\n",
       " 'CruzR_18G_': 659,\n",
       " \"O'RourkeD_\": 261,\n",
       " 'DikemanL_1': 6,\n",
       " 'OlsonD_18P': 52,\n",
       " 'NelsonD__1': 50,\n",
       " 'MahoneyD_1': 31,\n",
       " 'Chevalie_1': 22,\n",
       " 'WakelyD_18': 3,\n",
       " 'ClarkD_18P': 2,\n",
       " 'PayneD_18P': 6,\n",
       " 'Yarbroug_2': 7,\n",
       " 'DavisD_18P': 8,\n",
       " 'OceguedaD_': 1,\n",
       " 'ValdezD__1': 20,\n",
       " 'WhiteD_18P': 8,\n",
       " 'MumbachD_1': 0,\n",
       " 'SuazoD_18P': 32,\n",
       " 'MorganD_18': 22,\n",
       " 'CooperD_18': 38,\n",
       " 'CollierD_4': 15,\n",
       " 'KimbroughD': 21,\n",
       " 'HernandezD': 17,\n",
       " \"O'Rourke_1\": 17,\n",
       " 'HoganR_18P': 128,\n",
       " 'BlockerR_1': 83,\n",
       " 'MillerR__3': 170,\n",
       " 'PaxtonR__3': 380,\n",
       " 'HegarR_18P': 361,\n",
       " 'KruegerR_1': 35,\n",
       " 'KilgoreR_2': 8,\n",
       " 'AbbottR__2': 405,\n",
       " 'EdwardsR_1': 27,\n",
       " 'Patterso_1': 120,\n",
       " 'BushR_18P_': 248,\n",
       " 'RangeR_18P': 27,\n",
       " 'PatrickR_5': 326,\n",
       " 'MilderR_18': 112,\n",
       " 'JacobsonR_': 19,\n",
       " 'MillerR__4': 20,\n",
       " 'CruzR_18P_': 387,\n",
       " 'de Stefano': 14,\n",
       " 'SamR_18P_U': 4,\n",
       " 'ValdezD__2': 8,\n",
       " 'WhiteD_18R': 6,\n",
       " 'CraddickR_': 666,\n",
       " 'McAllenD_1': 221,\n",
       " 'McAllenD_2': 31,\n",
       " 'SpellmonD_': 24,\n",
       " 'Yarbroug_3': 236,\n",
       " 'ChristianR': 710,\n",
       " 'GarrettD_1': 2,\n",
       " 'Yarbroug_4': 5,\n",
       " 'GarrettD_2': 28,\n",
       " 'Yarbroug_5': 27,\n",
       " 'BurnamD_16': 6,\n",
       " 'SittonR_14': 413,\n",
       " 'BrownD_14G': 131,\n",
       " 'HenryD_14P': 11,\n",
       " 'BrownD_14P': 21,\n",
       " 'Craddick_1': 697,\n",
       " 'HenryD_12G': 271,\n",
       " 'HenryD_12P': 21,\n",
       " 'Smitherm_1': 727,\n",
       " 'ElyD_12P_P': 2,\n",
       " 'WolfeD_12P': 2,\n",
       " 'Richardson': 0,\n",
       " 'ObamaD_12P': 21,\n",
       " 'CNTY_y': 1,\n",
       " 'COLOR_y': 6,\n",
       " 'VTD_y': '0001',\n",
       " 'VTDKEY_y': 1,\n",
       " 'Shape_ar_1': 5616315.63811,\n",
       " 'Shape_le_1': 15020.5442123,\n",
       " 'TOTPOP_y': 3131,\n",
       " 'CNTYVTD2': '10001',\n",
       " '1-2012': 1857.7241567123433,\n",
       " '3-2012': 3.207126948775058,\n",
       " '4-2012': 76.6755319148936,\n",
       " '5-2012': 281.18036182132926,\n",
       " '6-2012': 0.0,\n",
       " '7-2012': 1438.7072236957624,\n",
       " '8-2012': 17.03900709219858,\n",
       " '9-2012': 0.0,\n",
       " '10-2012': 0.0,\n",
       " '11-2012': 0.0,\n",
       " '12-2012': 0.0,\n",
       " '13-2012': 40.914905239384964,\n",
       " '1-2014': 2172.7147665089283,\n",
       " '3-2014': 0.0,\n",
       " '4-2014': 63.89627659574468,\n",
       " '5-2014': 391.1767482503067,\n",
       " '6-2014': 0.0,\n",
       " '7-2014': 1623.041992461479,\n",
       " '8-2014': 17.03900709219858,\n",
       " '9-2014': 0.0,\n",
       " '10-2014': 0.0,\n",
       " '11-2014': 0.0,\n",
       " '12-2014': 0.0,\n",
       " '13-2014': 77.56074210920039,\n",
       " '1-2016': 2024.680616942862,\n",
       " '3-2016': 0.114503816793893,\n",
       " '4-2016': 4.159445407279029,\n",
       " '5-2016': 553.2623543104795,\n",
       " '6-2016': 0.0,\n",
       " '7-2016': 1288.9314648369125,\n",
       " '8-2016': 29.316576237185863,\n",
       " '9-2016': 0.0,\n",
       " '10-2016': 0.0,\n",
       " '11-2016': 0.0,\n",
       " '12-2016': 0.0,\n",
       " '13-2016': 148.8962723342121,\n",
       " '1-2018': 2399.15407080306,\n",
       " '3-2018': 0.022900763358779,\n",
       " '4-2018': 4.159445407279029,\n",
       " '5-2018': 611.5890628435453,\n",
       " '6-2018': 0.0,\n",
       " '7-2018': 1511.544777792551,\n",
       " '8-2018': 44.09799554565702,\n",
       " '9-2018': 0.0,\n",
       " '10-2018': 0.0,\n",
       " '11-2018': 0.0,\n",
       " '12-2018': 0.0,\n",
       " '13-2018': 227.7398884506685,\n",
       " 'sldl309': 8,\n",
       " 'sldl358': 8,\n",
       " 'sldu172': 3,\n",
       " '538_Dem': 16,\n",
       " '538_Comp_1': 16,\n",
       " '538_Propor': 9,\n",
       " 'Seed3': '24',\n",
       " 'geometry': <shapely.geometry.polygon.Polygon at 0x7ff74e74beb0>}"
      ]
     },
     "execution_count": 3,
     "metadata": {},
     "output_type": "execute_result"
    }
   ],
   "source": [
    "g.nodes[0]"
   ]
  },
  {
   "cell_type": "code",
   "execution_count": 4,
   "metadata": {},
   "outputs": [],
   "source": [
    "county_splits = LocalitySplits(\n",
    "            \"countysplits\",\n",
    "            \"CNTY_x\",\n",
    "            \"TOTPOP_x\",\n",
    "            [\"num_parts\", \"num_pieces\",\"num_split_localities\"]\n",
    "        )"
   ]
  },
  {
   "cell_type": "code",
   "execution_count": 5,
   "metadata": {},
   "outputs": [],
   "source": [
    "partition = Partition(g, \"sldl358\", updaters={\"county_splits\" : county_splits})"
   ]
  },
  {
   "cell_type": "code",
   "execution_count": 6,
   "metadata": {},
   "outputs": [
    {
     "data": {
      "text/plain": [
       "{'num_parts': 349, 'num_pieces': 361, 'num_split_localities': 24}"
      ]
     },
     "execution_count": 6,
     "metadata": {},
     "output_type": "execute_result"
    }
   ],
   "source": [
    "partition[\"county_splits\"]"
   ]
  },
  {
   "cell_type": "markdown",
   "metadata": {},
   "source": [
    "So the number of county pieces is 361, given the TX state House districting plan"
   ]
  },
  {
   "cell_type": "markdown",
   "metadata": {},
   "source": [
    "## pieces of places\n",
    "The places shapefile was found [here](https://catalog.data.gov/dataset/tiger-line-shapefile-2017-state-texas-current-place-state-based)."
   ]
  },
  {
   "cell_type": "code",
   "execution_count": 79,
   "metadata": {},
   "outputs": [
    {
     "name": "stdout",
     "output_type": "stream",
     "text": [
      "CPU times: user 490 ms, sys: 25.1 ms, total: 515 ms\n",
      "Wall time: 519 ms\n"
     ]
    }
   ],
   "source": [
    "%%time\n",
    "place_df = gpd.read_file(\"tl_2017_48_place/tl_2017_48_place.shp\")\n",
    "HD_df = gpd.read_file(\"Texas_State_House_Districts-shp/State_House_District.shp\")"
   ]
  },
  {
   "cell_type": "code",
   "execution_count": 82,
   "metadata": {},
   "outputs": [
    {
     "data": {
      "text/plain": [
       "(1747, 150)"
      ]
     },
     "execution_count": 82,
     "metadata": {},
     "output_type": "execute_result"
    }
   ],
   "source": [
    "len(place_df), len(HD_df)"
   ]
  },
  {
   "cell_type": "markdown",
   "metadata": {},
   "source": [
    "Loading the two above shapefiles into QGIS and taking the intersection of the two layers (Vector -> Geoprocessing Tools -> Intersection) gives us a layer with precisely 2354 units. This is the number of \"place pieces\" given the TX state House districting plan."
   ]
  },
  {
   "cell_type": "code",
   "execution_count": null,
   "metadata": {},
   "outputs": [],
   "source": []
  }
 ],
 "metadata": {
  "kernelspec": {
   "display_name": "Python 3",
   "language": "python",
   "name": "python3"
  },
  "language_info": {
   "codemirror_mode": {
    "name": "ipython",
    "version": 3
   },
   "file_extension": ".py",
   "mimetype": "text/x-python",
   "name": "python",
   "nbconvert_exporter": "python",
   "pygments_lexer": "ipython3",
   "version": "3.8.5"
  }
 },
 "nbformat": 4,
 "nbformat_minor": 4
}
